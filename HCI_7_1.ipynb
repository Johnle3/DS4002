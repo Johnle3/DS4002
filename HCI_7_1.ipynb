{
 "cells": [
  {
   "cell_type": "raw",
   "metadata": {},
   "source": [
    "---\n",
    "title: \"DS 4002: Human Capital Index (HCI) Project\"\n",
    "format:\n",
    "  html:\n",
    "    code-fold: true\n",
    "    code-summary: \"Show the code\"\n",
    "jupyter: python 3\n",
    "---"
   ]
  },
  {
   "attachments": {},
   "cell_type": "markdown",
   "metadata": {},
   "source": [
    "<h4>Predicting GDP Per Capita Using 2020 HCI Data And Visualizations</h4>"
   ]
  },
  {
   "attachments": {},
   "cell_type": "markdown",
   "metadata": {},
   "source": [
    "<h5>Group 7 - Matthew Heeter, John Le, and Andrew Nguyen</h5>"
   ]
  },
  {
   "attachments": {},
   "cell_type": "markdown",
   "metadata": {},
   "source": [
    "<h2>Question and Background Information</h2>\n",
    "\n",
    " The World Bank's Human Capital Project is an initiative that aims to increase the productive capacity of people in developing countries through investments in health, education, and training. The project aims to improve human capital outcomes, such as health outcomes, educational achievements, and labor market outcomes, in order to accelerate economic growth and reduce poverty. It also aims to promote gender equality and inclusivity. \n",
    " \n",
    " The project uses data and evidence to inform policy decisions and interventions at the national and subnational levels, and works with governments, civil society organizations, and other stakeholders to design and implement effective policies and programs. The project also focuses on the measurement of human capital, including the development of the Human Capital Index (HCI), which ranks countries (from a scale of 0 to 1, with 1 being the highest rank) based on their investments in health, education, and training. \n",
    " \n",
    " The HCI is used to inform policy decisions and track progress over time. Overall, the goal of the Human Capital Project is to help countries achieve their development goals and create a more prosperous future for all their citizens.\n",
    "\n",
    "<h2>Research Goals</h2>\n",
    "\n",
    "1) Predicting health outcomes based on investments in health, education, and training: This project could involve using machine learning algorithms to predict health outcomes (such as infant mortality rates or life expectancy) based on data on investments in health, education, and training. The goal of this project would be to identify the most effective interventions for improving health outcomes in developing countries.\n",
    "\n",
    "2) Predicting educational achievements based on investments in education and training: This project could involve using machine learning algorithms to predict educational achievements (such as literacy rates or enrollment rates) based on data on investments in education and training. The goal of this project would be to identify the most effective interventions for improving educational outcomes in developing countries.\n",
    "\n",
    "3) Predicting labor market outcomes based on investments in education and training: This project could involve using machine learning algorithms to predict labor market outcomes (such as employment rates or wage levels) based on data on investments in education and training. The goal of this project would be to identify the most effective interventions for improving labor market outcomes in developing countries.\n",
    "\n",
    "Related Research - HCI vs. GDP per capita seem to have a strong, positive, and linear relationship as seen in the 2016 Our World in Data website. \n",
    "Source: https://ourworldindata.org/grapher/human-capital-index-vs-gdp\n",
    "\n",
    "<h2>Questions</h2>\n",
    "\n",
    " 1) What's the most optimal machine learning model for accurately predicting a country’s GDP per capita using HCI (Human Capital Index) socio-economic and demographic data?   \n",
    " 2) How do we effectively portray the relationships between HCI and GDP per capita? \n",
    "\n"
   ]
  },
  {
   "attachments": {},
   "cell_type": "markdown",
   "metadata": {},
   "source": [
    "<h2>Exploratory Data Analysis</h2>\n",
    "\n",
    "<h4>Dataset: World Bank Human Capital Index Dataset (2020)</h4>\n",
    "<h4>Data Cleaning</h4>"
   ]
  },
  {
   "cell_type": "code",
   "execution_count": 43,
   "metadata": {},
   "outputs": [
    {
     "data": {
      "text/html": [
       "<div>\n",
       "<style scoped>\n",
       "    .dataframe tbody tr th:only-of-type {\n",
       "        vertical-align: middle;\n",
       "    }\n",
       "\n",
       "    .dataframe tbody tr th {\n",
       "        vertical-align: top;\n",
       "    }\n",
       "\n",
       "    .dataframe thead th {\n",
       "        text-align: right;\n",
       "    }\n",
       "</style>\n",
       "<table border=\"1\" class=\"dataframe\">\n",
       "  <thead>\n",
       "    <tr style=\"text-align: right;\">\n",
       "      <th></th>\n",
       "      <th>Country Name</th>\n",
       "      <th>Region</th>\n",
       "      <th>Income Group</th>\n",
       "      <th>Probability of Survival to Age 5</th>\n",
       "      <th>Expected Years of School</th>\n",
       "      <th>Harmonized Test Scores</th>\n",
       "      <th>Learning-Adjusted Years of School</th>\n",
       "      <th>Adult Survival Rate</th>\n",
       "      <th>HUMAN CAPITAL INDEX 2020</th>\n",
       "    </tr>\n",
       "  </thead>\n",
       "  <tbody>\n",
       "    <tr>\n",
       "      <th>0</th>\n",
       "      <td>Afghanistan</td>\n",
       "      <td>South Asia</td>\n",
       "      <td>Low income</td>\n",
       "      <td>0.937724</td>\n",
       "      <td>8.901891</td>\n",
       "      <td>354.758789</td>\n",
       "      <td>5.052838</td>\n",
       "      <td>0.787741</td>\n",
       "      <td>0.400284</td>\n",
       "    </tr>\n",
       "    <tr>\n",
       "      <th>1</th>\n",
       "      <td>Albania</td>\n",
       "      <td>Europe &amp; Central Asia</td>\n",
       "      <td>Upper middle income</td>\n",
       "      <td>0.991177</td>\n",
       "      <td>12.889381</td>\n",
       "      <td>434.127594</td>\n",
       "      <td>8.953018</td>\n",
       "      <td>0.929366</td>\n",
       "      <td>0.634251</td>\n",
       "    </tr>\n",
       "    <tr>\n",
       "      <th>2</th>\n",
       "      <td>Algeria</td>\n",
       "      <td>Middle East &amp; North Africa</td>\n",
       "      <td>Lower middle income</td>\n",
       "      <td>0.976518</td>\n",
       "      <td>11.848035</td>\n",
       "      <td>374.089081</td>\n",
       "      <td>7.091553</td>\n",
       "      <td>0.909282</td>\n",
       "      <td>0.534556</td>\n",
       "    </tr>\n",
       "    <tr>\n",
       "      <th>3</th>\n",
       "      <td>Angola</td>\n",
       "      <td>Sub-Saharan Africa</td>\n",
       "      <td>Lower middle income</td>\n",
       "      <td>0.922835</td>\n",
       "      <td>8.120066</td>\n",
       "      <td>325.965485</td>\n",
       "      <td>4.234978</td>\n",
       "      <td>0.729359</td>\n",
       "      <td>0.362405</td>\n",
       "    </tr>\n",
       "    <tr>\n",
       "      <th>4</th>\n",
       "      <td>Antigua and Barbuda</td>\n",
       "      <td>Latin America &amp; Caribbean</td>\n",
       "      <td>High income</td>\n",
       "      <td>0.993559</td>\n",
       "      <td>12.967560</td>\n",
       "      <td>406.997437</td>\n",
       "      <td>8.444422</td>\n",
       "      <td>0.897208</td>\n",
       "      <td>0.595704</td>\n",
       "    </tr>\n",
       "  </tbody>\n",
       "</table>\n",
       "</div>"
      ],
      "text/plain": [
       "          Country Name                      Region         Income Group  \\\n",
       "0          Afghanistan                  South Asia           Low income   \n",
       "1              Albania       Europe & Central Asia  Upper middle income   \n",
       "2              Algeria  Middle East & North Africa  Lower middle income   \n",
       "3               Angola          Sub-Saharan Africa  Lower middle income   \n",
       "4  Antigua and Barbuda   Latin America & Caribbean          High income   \n",
       "\n",
       "   Probability of Survival to Age 5  Expected Years of School  \\\n",
       "0                          0.937724                  8.901891   \n",
       "1                          0.991177                 12.889381   \n",
       "2                          0.976518                 11.848035   \n",
       "3                          0.922835                  8.120066   \n",
       "4                          0.993559                 12.967560   \n",
       "\n",
       "   Harmonized Test Scores  Learning-Adjusted Years of School  \\\n",
       "0              354.758789                           5.052838   \n",
       "1              434.127594                           8.953018   \n",
       "2              374.089081                           7.091553   \n",
       "3              325.965485                           4.234978   \n",
       "4              406.997437                           8.444422   \n",
       "\n",
       "   Adult Survival Rate  HUMAN CAPITAL INDEX 2020  \n",
       "0             0.787741                  0.400284  \n",
       "1             0.929366                  0.634251  \n",
       "2             0.909282                  0.534556  \n",
       "3             0.729359                  0.362405  \n",
       "4             0.897208                  0.595704  "
      ]
     },
     "execution_count": 43,
     "metadata": {},
     "output_type": "execute_result"
    }
   ],
   "source": [
    "import pandas as pd\n",
    "\n",
    "# Read the Excel file into a DataFrame\n",
    "hci = pd.read_excel('/Users/mattheeter/DS4002/hci_data_september_2020.xlsx', sheet_name='HCI 2020 - MaleFemale')\n",
    "hci=hci[hci.columns[0:13]]\n",
    "# Apply the 'default' style to the DataFrame\n",
    "hci.style.set_caption('Human Capital Index (HCI) - Male and Female')\n",
    "# Drop WB Code\n",
    "hci = hci.drop('WB Code', axis = 1)\n",
    "# Drop upper and lower bounds\n",
    "hci = hci.drop('HUMAN CAPITAL INDEX 2020 (LOWER BOUND)', axis = 1)\n",
    "hci = hci.drop('HUMAN CAPITAL INDEX 2020 (UPPER BOUND)', axis = 1)\n",
    "hci = hci.drop('Fraction of Children Under 5 Not Stunted', axis = 1)\n",
    "# hci = hci.dropna()\n",
    "# hci = hci[hci['Fraction of Children Under 5 Not Stunted'] != '-']\n",
    "# Print the DataFrame\n",
    "hci.head()"
   ]
  },
  {
   "attachments": {},
   "cell_type": "markdown",
   "metadata": {},
   "source": [
    "- Main dataset: 2020 Human Capital Index\n",
    "- Derived from the World Bank database\n",
    "- Data from September 2020 for 174 countries with each row representing a specific country\n",
    "- Includes columns on WB code, region, and income group for each country\n",
    "- Also contains columns on specific Human Capital Index (HCI) information, such as Probability of Survival to Age 5, Expected Years of School, Harmonized Test Scores, Learning- Adjusted Years of School, Fraction of Children Under 5 Not Stunted, Adult Survival Rate, calculated HCI score with its lower bound and upper bound for each country\n",
    "- Removed lower bound and upper bound of HCI 2020, Fraction of Children Under 5 Not Stunted column (because there were too many missing/null values), and WB code (unnecessary categorical variable)"
   ]
  },
  {
   "attachments": {},
   "cell_type": "markdown",
   "metadata": {},
   "source": [
    "<h4>Dataset: World Bank GDP Per Capita ($) Dataset (1965-2021)</h4>"
   ]
  },
  {
   "cell_type": "code",
   "execution_count": 44,
   "metadata": {},
   "outputs": [
    {
     "data": {
      "text/html": [
       "<div>\n",
       "<style scoped>\n",
       "    .dataframe tbody tr th:only-of-type {\n",
       "        vertical-align: middle;\n",
       "    }\n",
       "\n",
       "    .dataframe tbody tr th {\n",
       "        vertical-align: top;\n",
       "    }\n",
       "\n",
       "    .dataframe thead th {\n",
       "        text-align: right;\n",
       "    }\n",
       "</style>\n",
       "<table border=\"1\" class=\"dataframe\">\n",
       "  <thead>\n",
       "    <tr style=\"text-align: right;\">\n",
       "      <th></th>\n",
       "      <th>Country Name</th>\n",
       "      <th>2020</th>\n",
       "    </tr>\n",
       "  </thead>\n",
       "  <tbody>\n",
       "    <tr>\n",
       "      <th>0</th>\n",
       "      <td>Aruba</td>\n",
       "      <td>24487.863560</td>\n",
       "    </tr>\n",
       "    <tr>\n",
       "      <th>1</th>\n",
       "      <td>Africa Eastern and Southern</td>\n",
       "      <td>1353.769160</td>\n",
       "    </tr>\n",
       "    <tr>\n",
       "      <th>2</th>\n",
       "      <td>Afghanistan</td>\n",
       "      <td>516.866552</td>\n",
       "    </tr>\n",
       "    <tr>\n",
       "      <th>3</th>\n",
       "      <td>Africa Western and Central</td>\n",
       "      <td>1683.436391</td>\n",
       "    </tr>\n",
       "    <tr>\n",
       "      <th>4</th>\n",
       "      <td>Angola</td>\n",
       "      <td>1603.993477</td>\n",
       "    </tr>\n",
       "  </tbody>\n",
       "</table>\n",
       "</div>"
      ],
      "text/plain": [
       "                  Country Name          2020\n",
       "0                        Aruba  24487.863560\n",
       "1  Africa Eastern and Southern   1353.769160\n",
       "2                  Afghanistan    516.866552\n",
       "3   Africa Western and Central   1683.436391\n",
       "4                       Angola   1603.993477"
      ]
     },
     "execution_count": 44,
     "metadata": {},
     "output_type": "execute_result"
    }
   ],
   "source": [
    "import pandas as pd\n",
    "# Read the Excel file into a DataFrame\n",
    "gdp = pd.read_csv('/Users/mattheeter/DS4002/API_NY.GDP.PCAP.CD_DS2_en_csv_v2_4770417.csv')\n",
    "gdp2020 = gdp[['Country Name','2020']]\n",
    "\n",
    "# Apply the 'default' style to the DataFrame\n",
    "gdp.style.set_caption('Data')\n",
    "\n",
    "# Print the DataFrame\n",
    "gdp2020.head()"
   ]
  },
  {
   "attachments": {},
   "cell_type": "markdown",
   "metadata": {},
   "source": [
    "- Also derived from the World Bank database\n",
    "- Data from 1965 - 2021 on countries’ GDP per capita\n",
    "- Each row represents a country and the columns are the year\n",
    "- Data from 266 markets - including counties, regions and territories\n"
   ]
  },
  {
   "attachments": {},
   "cell_type": "markdown",
   "metadata": {},
   "source": [
    "<h4>Merge two datasets</h4>"
   ]
  },
  {
   "cell_type": "code",
   "execution_count": 45,
   "metadata": {},
   "outputs": [
    {
     "data": {
      "text/html": [
       "<div>\n",
       "<style scoped>\n",
       "    .dataframe tbody tr th:only-of-type {\n",
       "        vertical-align: middle;\n",
       "    }\n",
       "\n",
       "    .dataframe tbody tr th {\n",
       "        vertical-align: top;\n",
       "    }\n",
       "\n",
       "    .dataframe thead th {\n",
       "        text-align: right;\n",
       "    }\n",
       "</style>\n",
       "<table border=\"1\" class=\"dataframe\">\n",
       "  <thead>\n",
       "    <tr style=\"text-align: right;\">\n",
       "      <th></th>\n",
       "      <th>Country Name</th>\n",
       "      <th>Region</th>\n",
       "      <th>Income Group</th>\n",
       "      <th>Probability of Survival to Age 5</th>\n",
       "      <th>Expected Years of School</th>\n",
       "      <th>Harmonized Test Scores</th>\n",
       "      <th>Learning-Adjusted Years of School</th>\n",
       "      <th>Adult Survival Rate</th>\n",
       "      <th>HUMAN CAPITAL INDEX 2020</th>\n",
       "      <th>2020</th>\n",
       "    </tr>\n",
       "  </thead>\n",
       "  <tbody>\n",
       "    <tr>\n",
       "      <th>0</th>\n",
       "      <td>Afghanistan</td>\n",
       "      <td>South Asia</td>\n",
       "      <td>Low income</td>\n",
       "      <td>0.937724</td>\n",
       "      <td>8.901891</td>\n",
       "      <td>354.758789</td>\n",
       "      <td>5.052838</td>\n",
       "      <td>0.787741</td>\n",
       "      <td>0.400284</td>\n",
       "      <td>516.866552</td>\n",
       "    </tr>\n",
       "    <tr>\n",
       "      <th>1</th>\n",
       "      <td>Albania</td>\n",
       "      <td>Europe &amp; Central Asia</td>\n",
       "      <td>Upper middle income</td>\n",
       "      <td>0.991177</td>\n",
       "      <td>12.889381</td>\n",
       "      <td>434.127594</td>\n",
       "      <td>8.953018</td>\n",
       "      <td>0.929366</td>\n",
       "      <td>0.634251</td>\n",
       "      <td>5332.160475</td>\n",
       "    </tr>\n",
       "    <tr>\n",
       "      <th>2</th>\n",
       "      <td>Algeria</td>\n",
       "      <td>Middle East &amp; North Africa</td>\n",
       "      <td>Lower middle income</td>\n",
       "      <td>0.976518</td>\n",
       "      <td>11.848035</td>\n",
       "      <td>374.089081</td>\n",
       "      <td>7.091553</td>\n",
       "      <td>0.909282</td>\n",
       "      <td>0.534556</td>\n",
       "      <td>3337.252512</td>\n",
       "    </tr>\n",
       "    <tr>\n",
       "      <th>3</th>\n",
       "      <td>Angola</td>\n",
       "      <td>Sub-Saharan Africa</td>\n",
       "      <td>Lower middle income</td>\n",
       "      <td>0.922835</td>\n",
       "      <td>8.120066</td>\n",
       "      <td>325.965485</td>\n",
       "      <td>4.234978</td>\n",
       "      <td>0.729359</td>\n",
       "      <td>0.362405</td>\n",
       "      <td>1603.993477</td>\n",
       "    </tr>\n",
       "    <tr>\n",
       "      <th>4</th>\n",
       "      <td>Antigua and Barbuda</td>\n",
       "      <td>Latin America &amp; Caribbean</td>\n",
       "      <td>High income</td>\n",
       "      <td>0.993559</td>\n",
       "      <td>12.967560</td>\n",
       "      <td>406.997437</td>\n",
       "      <td>8.444422</td>\n",
       "      <td>0.897208</td>\n",
       "      <td>0.595704</td>\n",
       "      <td>14787.635780</td>\n",
       "    </tr>\n",
       "  </tbody>\n",
       "</table>\n",
       "</div>"
      ],
      "text/plain": [
       "          Country Name                      Region         Income Group  \\\n",
       "0          Afghanistan                  South Asia           Low income   \n",
       "1              Albania       Europe & Central Asia  Upper middle income   \n",
       "2              Algeria  Middle East & North Africa  Lower middle income   \n",
       "3               Angola          Sub-Saharan Africa  Lower middle income   \n",
       "4  Antigua and Barbuda   Latin America & Caribbean          High income   \n",
       "\n",
       "   Probability of Survival to Age 5  Expected Years of School  \\\n",
       "0                          0.937724                  8.901891   \n",
       "1                          0.991177                 12.889381   \n",
       "2                          0.976518                 11.848035   \n",
       "3                          0.922835                  8.120066   \n",
       "4                          0.993559                 12.967560   \n",
       "\n",
       "   Harmonized Test Scores  Learning-Adjusted Years of School  \\\n",
       "0              354.758789                           5.052838   \n",
       "1              434.127594                           8.953018   \n",
       "2              374.089081                           7.091553   \n",
       "3              325.965485                           4.234978   \n",
       "4              406.997437                           8.444422   \n",
       "\n",
       "   Adult Survival Rate  HUMAN CAPITAL INDEX 2020          2020  \n",
       "0             0.787741                  0.400284    516.866552  \n",
       "1             0.929366                  0.634251   5332.160475  \n",
       "2             0.909282                  0.534556   3337.252512  \n",
       "3             0.729359                  0.362405   1603.993477  \n",
       "4             0.897208                  0.595704  14787.635780  "
      ]
     },
     "execution_count": 45,
     "metadata": {},
     "output_type": "execute_result"
    }
   ],
   "source": [
    "# Merge the two datasets on the 'Country' column\n",
    "df = pd.merge(hci, gdp2020, on='Country Name')\n",
    "\n",
    "# Drop rows with any null values\n",
    "df = df.dropna()\n",
    "# Drop the country name \n",
    "df_train = df.drop('Country Name', axis = 1)\n",
    "# Print the merged DataFrame\n",
    "df.head()\n",
    "\n"
   ]
  },
  {
   "attachments": {},
   "cell_type": "markdown",
   "metadata": {},
   "source": [
    "<h4>Summary Stats</h4>"
   ]
  },
  {
   "cell_type": "code",
   "execution_count": 46,
   "metadata": {},
   "outputs": [
    {
     "name": "stderr",
     "output_type": "stream",
     "text": [
      "/var/folders/nj/705wgkn91bx4dynjyw516f840000gn/T/ipykernel_66173/750947143.py:6: FutureWarning:\n",
      "\n",
      "this method is deprecated in favour of `Styler.format(precision=..)`\n",
      "\n"
     ]
    },
    {
     "data": {
      "text/html": [
       "<div>\n",
       "<style scoped>\n",
       "    .dataframe tbody tr th:only-of-type {\n",
       "        vertical-align: middle;\n",
       "    }\n",
       "\n",
       "    .dataframe tbody tr th {\n",
       "        vertical-align: top;\n",
       "    }\n",
       "\n",
       "    .dataframe thead th {\n",
       "        text-align: right;\n",
       "    }\n",
       "</style>\n",
       "<table border=\"1\" class=\"dataframe\">\n",
       "  <thead>\n",
       "    <tr style=\"text-align: right;\">\n",
       "      <th></th>\n",
       "      <th>Probability of Survival to Age 5</th>\n",
       "      <th>Expected Years of School</th>\n",
       "      <th>Harmonized Test Scores</th>\n",
       "      <th>Learning-Adjusted Years of School</th>\n",
       "      <th>Adult Survival Rate</th>\n",
       "      <th>HUMAN CAPITAL INDEX 2020</th>\n",
       "      <th>2020</th>\n",
       "    </tr>\n",
       "  </thead>\n",
       "  <tbody>\n",
       "    <tr>\n",
       "      <th>count</th>\n",
       "      <td>168.000000</td>\n",
       "      <td>168.000000</td>\n",
       "      <td>168.000000</td>\n",
       "      <td>168.000000</td>\n",
       "      <td>168.000000</td>\n",
       "      <td>168.000000</td>\n",
       "      <td>168.000000</td>\n",
       "    </tr>\n",
       "    <tr>\n",
       "      <th>mean</th>\n",
       "      <td>0.973054</td>\n",
       "      <td>11.379255</td>\n",
       "      <td>423.947414</td>\n",
       "      <td>7.869514</td>\n",
       "      <td>0.850771</td>\n",
       "      <td>0.564158</td>\n",
       "      <td>14157.843802</td>\n",
       "    </tr>\n",
       "    <tr>\n",
       "      <th>std</th>\n",
       "      <td>0.027431</td>\n",
       "      <td>2.276297</td>\n",
       "      <td>62.781017</td>\n",
       "      <td>2.429186</td>\n",
       "      <td>0.083304</td>\n",
       "      <td>0.137317</td>\n",
       "      <td>19679.216603</td>\n",
       "    </tr>\n",
       "    <tr>\n",
       "      <th>min</th>\n",
       "      <td>0.880086</td>\n",
       "      <td>4.156989</td>\n",
       "      <td>304.922241</td>\n",
       "      <td>2.206502</td>\n",
       "      <td>0.522544</td>\n",
       "      <td>0.291632</td>\n",
       "      <td>216.826741</td>\n",
       "    </tr>\n",
       "    <tr>\n",
       "      <th>25%</th>\n",
       "      <td>0.960007</td>\n",
       "      <td>10.144179</td>\n",
       "      <td>379.442459</td>\n",
       "      <td>6.085780</td>\n",
       "      <td>0.802397</td>\n",
       "      <td>0.453250</td>\n",
       "      <td>1899.932748</td>\n",
       "    </tr>\n",
       "    <tr>\n",
       "      <th>50%</th>\n",
       "      <td>0.984219</td>\n",
       "      <td>12.201100</td>\n",
       "      <td>414.321365</td>\n",
       "      <td>7.941399</td>\n",
       "      <td>0.861430</td>\n",
       "      <td>0.566201</td>\n",
       "      <td>5342.754270</td>\n",
       "    </tr>\n",
       "    <tr>\n",
       "      <th>75%</th>\n",
       "      <td>0.992954</td>\n",
       "      <td>13.121243</td>\n",
       "      <td>473.094193</td>\n",
       "      <td>9.763350</td>\n",
       "      <td>0.916337</td>\n",
       "      <td>0.666993</td>\n",
       "      <td>16945.454083</td>\n",
       "    </tr>\n",
       "    <tr>\n",
       "      <th>max</th>\n",
       "      <td>0.998305</td>\n",
       "      <td>13.936425</td>\n",
       "      <td>575.272156</td>\n",
       "      <td>12.813290</td>\n",
       "      <td>0.961434</td>\n",
       "      <td>0.879126</td>\n",
       "      <td>117370.496900</td>\n",
       "    </tr>\n",
       "  </tbody>\n",
       "</table>\n",
       "</div>"
      ],
      "text/plain": [
       "       Probability of Survival to Age 5  Expected Years of School  \\\n",
       "count                        168.000000                168.000000   \n",
       "mean                           0.973054                 11.379255   \n",
       "std                            0.027431                  2.276297   \n",
       "min                            0.880086                  4.156989   \n",
       "25%                            0.960007                 10.144179   \n",
       "50%                            0.984219                 12.201100   \n",
       "75%                            0.992954                 13.121243   \n",
       "max                            0.998305                 13.936425   \n",
       "\n",
       "       Harmonized Test Scores  Learning-Adjusted Years of School  \\\n",
       "count              168.000000                         168.000000   \n",
       "mean               423.947414                           7.869514   \n",
       "std                 62.781017                           2.429186   \n",
       "min                304.922241                           2.206502   \n",
       "25%                379.442459                           6.085780   \n",
       "50%                414.321365                           7.941399   \n",
       "75%                473.094193                           9.763350   \n",
       "max                575.272156                          12.813290   \n",
       "\n",
       "       Adult Survival Rate  HUMAN CAPITAL INDEX 2020           2020  \n",
       "count           168.000000                168.000000     168.000000  \n",
       "mean              0.850771                  0.564158   14157.843802  \n",
       "std               0.083304                  0.137317   19679.216603  \n",
       "min               0.522544                  0.291632     216.826741  \n",
       "25%               0.802397                  0.453250    1899.932748  \n",
       "50%               0.861430                  0.566201    5342.754270  \n",
       "75%               0.916337                  0.666993   16945.454083  \n",
       "max               0.961434                  0.879126  117370.496900  "
      ]
     },
     "execution_count": 46,
     "metadata": {},
     "output_type": "execute_result"
    }
   ],
   "source": [
    "# Get summary statistics of the DataFrame\n",
    "df_stats = df.describe()\n",
    "\n",
    "# Apply formatting to the table\n",
    "df_stats.style.set_caption('Summary Statistics')\n",
    "df_stats.style.set_precision(2)\n",
    "df_stats.style.format({'mean': '${:,.2f}', 'min': '${:,.2f}', 'max': '${:,.2f}'})\n",
    "\n",
    "# Display the table\n",
    "df_stats"
   ]
  },
  {
   "attachments": {},
   "cell_type": "markdown",
   "metadata": {},
   "source": [
    "<h4>Boxplots</h4>"
   ]
  },
  {
   "cell_type": "code",
   "execution_count": 47,
   "metadata": {},
   "outputs": [
    {
     "data": {
      "image/png": "[encoded data removed]",
      "text/plain": [
       "<Figure size 640x480 with 1 Axes>"
      ]
     },
     "metadata": {},
     "output_type": "display_data"
    },
    {
     "data": {
      "image/png": "[encoded data removed]",
      "text/plain": [
       "<Figure size 640x480 with 1 Axes>"
      ]
     },
     "metadata": {},
     "output_type": "display_data"
    },
    {
     "data": {
      "image/png": "[encoded data removed]",
      "text/plain": [
       "<Figure size 640x480 with 1 Axes>"
      ]
     },
     "metadata": {},
     "output_type": "display_data"
    },
    {
     "data": {
      "image/png": "[encoded data removed]",
      "text/plain": [
       "<Figure size 640x480 with 1 Axes>"
      ]
     },
     "metadata": {},
     "output_type": "display_data"
    },
    {
     "data": {
      "image/png": "[encoded data removed]",
      "text/plain": [
       "<Figure size 640x480 with 1 Axes>"
      ]
     },
     "metadata": {},
     "output_type": "display_data"
    },
    {
     "data": {
      "image/png": "[encoded data removed]",
      "text/plain": [
       "<Figure size 640x480 with 1 Axes>"
      ]
     },
     "metadata": {},
     "output_type": "display_data"
    }
   ],
   "source": [
    "import matplotlib.pyplot as plt\n",
    "import pandas as pd\n",
    "\n",
    "# Create a dataframe with Probability of Survival to Age 5\n",
    "df_ps5 = df[\"Probability of Survival to Age 5\"]\n",
    "\n",
    "# Create the figure and axis objects\n",
    "fig, ax = plt.subplots()\n",
    "\n",
    "# Create the boxplot with the new dataframe\n",
    "bp = ax.boxplot(df_ps5)\n",
    "\n",
    "# Add a title\n",
    "plt.title(\"Boxplot for Probability of Survival to Age 5\")\n",
    "\n",
    "# Remove x-axis \n",
    "ax.xaxis.set_visible(False)\n",
    "\n",
    "# Add y-axis\n",
    "plt.ylabel(\"Under 5 Mortality Rate from 1 (in %)\")\n",
    "\n",
    "# Display the plot\n",
    "plt.show()\n",
    "\n",
    "# Create a dataframe with Expected Years of School\n",
    "df_eys = df[\"Expected Years of School\"]\n",
    "\n",
    "# Create the figure and axis objects\n",
    "fig, ax = plt.subplots()\n",
    "\n",
    "# Create the boxplot with the new dataframe\n",
    "bp = ax.boxplot(df_eys)\n",
    "\n",
    "# Add a title\n",
    "plt.title(\"Boxplot for Expected Years of School Between Ages 4 and 17\")\n",
    "\n",
    "# Remove x-axis \n",
    "ax.xaxis.set_visible(False)\n",
    "\n",
    "# Add y-axis\n",
    "plt.ylabel(\"Expected Years of School\")\n",
    "\n",
    "# Display the plot\n",
    "plt.show()\n",
    "\n",
    "# Create a dataframe with Harmonized Test Scores\n",
    "df_hts = df[\"Harmonized Test Scores\"]\n",
    "\n",
    "# Create the figure and axis objects\n",
    "fig, ax = plt.subplots()\n",
    "\n",
    "# Create the boxplot with the new dataframe\n",
    "bp = ax.boxplot(df_hts)\n",
    "\n",
    "# Add a title\n",
    "plt.title(\"Boxplot for Harmonized Test Scores\")\n",
    "\n",
    "# Remove x-axis \n",
    "ax.xaxis.set_visible(False)\n",
    "\n",
    "# Add y-axis\n",
    "plt.ylabel(\"TIMMS-equivalent units (300-625)\")\n",
    "\n",
    "# Display the plot\n",
    "plt.show()\n",
    "\n",
    "# Create a dataframe with Learning-Adjusted Years of School\n",
    "df_lys = df[\"Learning-Adjusted Years of School\"]\n",
    "\n",
    "# Create the figure and axis objects\n",
    "fig, ax = plt.subplots()\n",
    "\n",
    "# Create the boxplot with the new dataframe\n",
    "bp = ax.boxplot(df_lys)\n",
    "\n",
    "# Add a title\n",
    "plt.title(\"Boxplot for Learning-Adjusted Years of School\")\n",
    "\n",
    "# Remove x-axis \n",
    "ax.xaxis.set_visible(False)\n",
    "\n",
    "# Add y-axis\n",
    "plt.ylabel(\"Learning-Adjusted Years of School (EYoS * HTS)\")\n",
    "\n",
    "# Display the plot\n",
    "plt.show()\n",
    "\n",
    "# Create a dataframe with Adult Survival Rate\n",
    "df_adr = df[\"Adult Survival Rate\"]\n",
    "\n",
    "# Create the figure and axis objects\n",
    "fig, ax = plt.subplots()\n",
    "\n",
    "# Create the boxplot with the new dataframe\n",
    "bp = ax.boxplot(df_adr)\n",
    "\n",
    "# Add a title\n",
    "plt.title(\"Boxplot for Adult Survival Rate for 15-60 year-olds\")\n",
    "\n",
    "# Remove x-axis \n",
    "ax.xaxis.set_visible(False)\n",
    "\n",
    "# Add y-axis\n",
    "plt.ylabel(\"Mortality Rate (in %)\")\n",
    "\n",
    "# Display the plot\n",
    "plt.show()\n",
    "\n",
    "# Create a dataframe with Human Capital Index 2020\n",
    "df_hci = df[\"HUMAN CAPITAL INDEX 2020\"]\n",
    "\n",
    "# Create the figure and axis objects\n",
    "fig, ax = plt.subplots()\n",
    "\n",
    "# Create the boxplot with the new dataframe\n",
    "bp = ax.boxplot(df_hci)\n",
    "\n",
    "# Add a title\n",
    "plt.title(\"Boxplot for Human Capital Index 2020\")\n",
    "\n",
    "# Remove x-axis \n",
    "ax.xaxis.set_visible(False)\n",
    "\n",
    "# Add y-axis\n",
    "plt.ylabel(\"Human Capital Index score\")\n",
    "\n",
    "# Display the plot\n",
    "plt.show()\n"
   ]
  },
  {
   "attachments": {},
   "cell_type": "markdown",
   "metadata": {},
   "source": [
    "<h4>Data Processing</h4>"
   ]
  },
  {
   "cell_type": "code",
   "execution_count": 48,
   "metadata": {},
   "outputs": [
    {
     "data": {
      "text/html": [
       "<div>\n",
       "<style scoped>\n",
       "    .dataframe tbody tr th:only-of-type {\n",
       "        vertical-align: middle;\n",
       "    }\n",
       "\n",
       "    .dataframe tbody tr th {\n",
       "        vertical-align: top;\n",
       "    }\n",
       "\n",
       "    .dataframe thead th {\n",
       "        text-align: right;\n",
       "    }\n",
       "</style>\n",
       "<table border=\"1\" class=\"dataframe\">\n",
       "  <thead>\n",
       "    <tr style=\"text-align: right;\">\n",
       "      <th></th>\n",
       "      <th>Region</th>\n",
       "      <th>Income Group</th>\n",
       "      <th>Probability of Survival to Age 5</th>\n",
       "      <th>Expected Years of School</th>\n",
       "      <th>Harmonized Test Scores</th>\n",
       "      <th>Learning-Adjusted Years of School</th>\n",
       "      <th>Adult Survival Rate</th>\n",
       "      <th>HUMAN CAPITAL INDEX 2020</th>\n",
       "      <th>2020</th>\n",
       "      <th>Region_encoded</th>\n",
       "      <th>Income Group_encoded</th>\n",
       "    </tr>\n",
       "  </thead>\n",
       "  <tbody>\n",
       "    <tr>\n",
       "      <th>0</th>\n",
       "      <td>South Asia</td>\n",
       "      <td>Low income</td>\n",
       "      <td>0.937724</td>\n",
       "      <td>8.901891</td>\n",
       "      <td>354.758789</td>\n",
       "      <td>5.052838</td>\n",
       "      <td>0.787741</td>\n",
       "      <td>0.400284</td>\n",
       "      <td>516.866552</td>\n",
       "      <td>5</td>\n",
       "      <td>1</td>\n",
       "    </tr>\n",
       "    <tr>\n",
       "      <th>1</th>\n",
       "      <td>Europe &amp; Central Asia</td>\n",
       "      <td>Upper middle income</td>\n",
       "      <td>0.991177</td>\n",
       "      <td>12.889381</td>\n",
       "      <td>434.127594</td>\n",
       "      <td>8.953018</td>\n",
       "      <td>0.929366</td>\n",
       "      <td>0.634251</td>\n",
       "      <td>5332.160475</td>\n",
       "      <td>1</td>\n",
       "      <td>3</td>\n",
       "    </tr>\n",
       "    <tr>\n",
       "      <th>2</th>\n",
       "      <td>Middle East &amp; North Africa</td>\n",
       "      <td>Lower middle income</td>\n",
       "      <td>0.976518</td>\n",
       "      <td>11.848035</td>\n",
       "      <td>374.089081</td>\n",
       "      <td>7.091553</td>\n",
       "      <td>0.909282</td>\n",
       "      <td>0.534556</td>\n",
       "      <td>3337.252512</td>\n",
       "      <td>3</td>\n",
       "      <td>2</td>\n",
       "    </tr>\n",
       "    <tr>\n",
       "      <th>3</th>\n",
       "      <td>Sub-Saharan Africa</td>\n",
       "      <td>Lower middle income</td>\n",
       "      <td>0.922835</td>\n",
       "      <td>8.120066</td>\n",
       "      <td>325.965485</td>\n",
       "      <td>4.234978</td>\n",
       "      <td>0.729359</td>\n",
       "      <td>0.362405</td>\n",
       "      <td>1603.993477</td>\n",
       "      <td>6</td>\n",
       "      <td>2</td>\n",
       "    </tr>\n",
       "    <tr>\n",
       "      <th>4</th>\n",
       "      <td>Latin America &amp; Caribbean</td>\n",
       "      <td>High income</td>\n",
       "      <td>0.993559</td>\n",
       "      <td>12.967560</td>\n",
       "      <td>406.997437</td>\n",
       "      <td>8.444422</td>\n",
       "      <td>0.897208</td>\n",
       "      <td>0.595704</td>\n",
       "      <td>14787.635780</td>\n",
       "      <td>2</td>\n",
       "      <td>0</td>\n",
       "    </tr>\n",
       "  </tbody>\n",
       "</table>\n",
       "</div>"
      ],
      "text/plain": [
       "                       Region         Income Group  \\\n",
       "0                  South Asia           Low income   \n",
       "1       Europe & Central Asia  Upper middle income   \n",
       "2  Middle East & North Africa  Lower middle income   \n",
       "3          Sub-Saharan Africa  Lower middle income   \n",
       "4   Latin America & Caribbean          High income   \n",
       "\n",
       "   Probability of Survival to Age 5  Expected Years of School  \\\n",
       "0                          0.937724                  8.901891   \n",
       "1                          0.991177                 12.889381   \n",
       "2                          0.976518                 11.848035   \n",
       "3                          0.922835                  8.120066   \n",
       "4                          0.993559                 12.967560   \n",
       "\n",
       "   Harmonized Test Scores  Learning-Adjusted Years of School  \\\n",
       "0              354.758789                           5.052838   \n",
       "1              434.127594                           8.953018   \n",
       "2              374.089081                           7.091553   \n",
       "3              325.965485                           4.234978   \n",
       "4              406.997437                           8.444422   \n",
       "\n",
       "   Adult Survival Rate  HUMAN CAPITAL INDEX 2020          2020  \\\n",
       "0             0.787741                  0.400284    516.866552   \n",
       "1             0.929366                  0.634251   5332.160475   \n",
       "2             0.909282                  0.534556   3337.252512   \n",
       "3             0.729359                  0.362405   1603.993477   \n",
       "4             0.897208                  0.595704  14787.635780   \n",
       "\n",
       "   Region_encoded  Income Group_encoded  \n",
       "0               5                     1  \n",
       "1               1                     3  \n",
       "2               3                     2  \n",
       "3               6                     2  \n",
       "4               2                     0  "
      ]
     },
     "execution_count": 48,
     "metadata": {},
     "output_type": "execute_result"
    }
   ],
   "source": [
    "#Data Processing for Categorical Variables \n",
    "from sklearn.preprocessing import LabelEncoder\n",
    "\n",
    "# List of categorical columns to encode\n",
    "cat_cols = ['Region', 'Income Group']\n",
    "\n",
    "# Create a label encoder for each column\n",
    "le_dict = {}\n",
    "for col in cat_cols:\n",
    "    le_dict[col] = LabelEncoder()\n",
    "    le_dict[col].fit(df[col])\n",
    "\n",
    "# Use the label encoders to transform the categorical variables and store the encoded values in new columns\n",
    "for col in cat_cols:\n",
    "    df_train[col + '_encoded'] = le_dict[col].transform(df_train[col])\n",
    "    \n",
    "df_train.head()\n"
   ]
  },
  {
   "attachments": {},
   "cell_type": "markdown",
   "metadata": {},
   "source": [
    "<h4>One Hot Encoding</h4>"
   ]
  },
  {
   "cell_type": "code",
   "execution_count": 49,
   "metadata": {},
   "outputs": [],
   "source": [
    "from sklearn.preprocessing import OneHotEncoder\n",
    "\n",
    "# List of categorical columns to encode\n",
    "cat_cols = ['Region', 'Income Group']\n",
    "\n",
    "# Create an OneHotEncoder object\n",
    "ohe = OneHotEncoder()\n",
    "\n",
    "# Fit the OneHotEncoder to the categorical columns\n",
    "ohe.fit(df_train[cat_cols])\n",
    "\n",
    "# Use the OneHotEncoder to transform the categorical columns and concatenate the encoded columns to the original DataFrame\n",
    "encoded_df = pd.concat([df_train, pd.DataFrame(ohe.transform(df_train[cat_cols]).toarray(), columns=ohe.get_feature_names_out(cat_cols))], axis=1)\n",
    "\n",
    "# Drop the original categorical columns\n",
    "encoded_df = encoded_df.drop(cat_cols, axis=1)\n",
    "\n",
    "#Cleaning \n",
    "encoded_df = encoded_df.dropna()\n",
    "# Saves csv onto computer \n",
    "# encoded_df.to_csv('data5.csv', index=False)\n",
    "\n"
   ]
  },
  {
   "cell_type": "code",
   "execution_count": 50,
   "metadata": {},
   "outputs": [
    {
     "data": {
      "text/html": [
       "<div>\n",
       "<style scoped>\n",
       "    .dataframe tbody tr th:only-of-type {\n",
       "        vertical-align: middle;\n",
       "    }\n",
       "\n",
       "    .dataframe tbody tr th {\n",
       "        vertical-align: top;\n",
       "    }\n",
       "\n",
       "    .dataframe thead th {\n",
       "        text-align: right;\n",
       "    }\n",
       "</style>\n",
       "<table border=\"1\" class=\"dataframe\">\n",
       "  <thead>\n",
       "    <tr style=\"text-align: right;\">\n",
       "      <th></th>\n",
       "      <th>Country Name</th>\n",
       "      <th>Probability of Survival to Age 5</th>\n",
       "      <th>Expected Years of School</th>\n",
       "      <th>Harmonized Test Scores</th>\n",
       "      <th>Learning-Adjusted Years of School</th>\n",
       "      <th>Adult Survival Rate</th>\n",
       "      <th>HUMAN CAPITAL INDEX 2020</th>\n",
       "      <th>2020</th>\n",
       "      <th>Region_encoded</th>\n",
       "      <th>Income Group_encoded</th>\n",
       "      <th>...</th>\n",
       "      <th>Region_Europe &amp; Central Asia</th>\n",
       "      <th>Region_Latin America &amp; Caribbean</th>\n",
       "      <th>Region_Middle East &amp; North Africa</th>\n",
       "      <th>Region_North America</th>\n",
       "      <th>Region_South Asia</th>\n",
       "      <th>Region_Sub-Saharan Africa</th>\n",
       "      <th>Income Group_High income</th>\n",
       "      <th>Income Group_Low income</th>\n",
       "      <th>Income Group_Lower middle income</th>\n",
       "      <th>Income Group_Upper middle income</th>\n",
       "    </tr>\n",
       "    <tr>\n",
       "      <th>index</th>\n",
       "      <th></th>\n",
       "      <th></th>\n",
       "      <th></th>\n",
       "      <th></th>\n",
       "      <th></th>\n",
       "      <th></th>\n",
       "      <th></th>\n",
       "      <th></th>\n",
       "      <th></th>\n",
       "      <th></th>\n",
       "      <th></th>\n",
       "      <th></th>\n",
       "      <th></th>\n",
       "      <th></th>\n",
       "      <th></th>\n",
       "      <th></th>\n",
       "      <th></th>\n",
       "      <th></th>\n",
       "      <th></th>\n",
       "      <th></th>\n",
       "      <th></th>\n",
       "    </tr>\n",
       "  </thead>\n",
       "  <tbody>\n",
       "    <tr>\n",
       "      <th>0</th>\n",
       "      <td>Afghanistan</td>\n",
       "      <td>0.937724</td>\n",
       "      <td>8.901891</td>\n",
       "      <td>354.758789</td>\n",
       "      <td>5.052838</td>\n",
       "      <td>0.787741</td>\n",
       "      <td>0.400284</td>\n",
       "      <td>516.866552</td>\n",
       "      <td>5.0</td>\n",
       "      <td>1.0</td>\n",
       "      <td>...</td>\n",
       "      <td>0.0</td>\n",
       "      <td>0.0</td>\n",
       "      <td>0.0</td>\n",
       "      <td>0.0</td>\n",
       "      <td>1.0</td>\n",
       "      <td>0.0</td>\n",
       "      <td>0.0</td>\n",
       "      <td>1.0</td>\n",
       "      <td>0.0</td>\n",
       "      <td>0.0</td>\n",
       "    </tr>\n",
       "    <tr>\n",
       "      <th>1</th>\n",
       "      <td>Albania</td>\n",
       "      <td>0.991177</td>\n",
       "      <td>12.889381</td>\n",
       "      <td>434.127594</td>\n",
       "      <td>8.953018</td>\n",
       "      <td>0.929366</td>\n",
       "      <td>0.634251</td>\n",
       "      <td>5332.160475</td>\n",
       "      <td>1.0</td>\n",
       "      <td>3.0</td>\n",
       "      <td>...</td>\n",
       "      <td>1.0</td>\n",
       "      <td>0.0</td>\n",
       "      <td>0.0</td>\n",
       "      <td>0.0</td>\n",
       "      <td>0.0</td>\n",
       "      <td>0.0</td>\n",
       "      <td>0.0</td>\n",
       "      <td>0.0</td>\n",
       "      <td>0.0</td>\n",
       "      <td>1.0</td>\n",
       "    </tr>\n",
       "    <tr>\n",
       "      <th>2</th>\n",
       "      <td>Algeria</td>\n",
       "      <td>0.976518</td>\n",
       "      <td>11.848035</td>\n",
       "      <td>374.089081</td>\n",
       "      <td>7.091553</td>\n",
       "      <td>0.909282</td>\n",
       "      <td>0.534556</td>\n",
       "      <td>3337.252512</td>\n",
       "      <td>3.0</td>\n",
       "      <td>2.0</td>\n",
       "      <td>...</td>\n",
       "      <td>0.0</td>\n",
       "      <td>0.0</td>\n",
       "      <td>1.0</td>\n",
       "      <td>0.0</td>\n",
       "      <td>0.0</td>\n",
       "      <td>0.0</td>\n",
       "      <td>0.0</td>\n",
       "      <td>0.0</td>\n",
       "      <td>1.0</td>\n",
       "      <td>0.0</td>\n",
       "    </tr>\n",
       "    <tr>\n",
       "      <th>3</th>\n",
       "      <td>Angola</td>\n",
       "      <td>0.922835</td>\n",
       "      <td>8.120066</td>\n",
       "      <td>325.965485</td>\n",
       "      <td>4.234978</td>\n",
       "      <td>0.729359</td>\n",
       "      <td>0.362405</td>\n",
       "      <td>1603.993477</td>\n",
       "      <td>6.0</td>\n",
       "      <td>2.0</td>\n",
       "      <td>...</td>\n",
       "      <td>0.0</td>\n",
       "      <td>0.0</td>\n",
       "      <td>0.0</td>\n",
       "      <td>0.0</td>\n",
       "      <td>0.0</td>\n",
       "      <td>1.0</td>\n",
       "      <td>0.0</td>\n",
       "      <td>0.0</td>\n",
       "      <td>1.0</td>\n",
       "      <td>0.0</td>\n",
       "    </tr>\n",
       "    <tr>\n",
       "      <th>4</th>\n",
       "      <td>Antigua and Barbuda</td>\n",
       "      <td>0.993559</td>\n",
       "      <td>12.967560</td>\n",
       "      <td>406.997437</td>\n",
       "      <td>8.444422</td>\n",
       "      <td>0.897208</td>\n",
       "      <td>0.595704</td>\n",
       "      <td>14787.635780</td>\n",
       "      <td>2.0</td>\n",
       "      <td>0.0</td>\n",
       "      <td>...</td>\n",
       "      <td>0.0</td>\n",
       "      <td>1.0</td>\n",
       "      <td>0.0</td>\n",
       "      <td>0.0</td>\n",
       "      <td>0.0</td>\n",
       "      <td>0.0</td>\n",
       "      <td>1.0</td>\n",
       "      <td>0.0</td>\n",
       "      <td>0.0</td>\n",
       "      <td>0.0</td>\n",
       "    </tr>\n",
       "  </tbody>\n",
       "</table>\n",
       "<p>5 rows × 21 columns</p>\n",
       "</div>"
      ],
      "text/plain": [
       "              Country Name  Probability of Survival to Age 5  \\\n",
       "index                                                          \n",
       "0              Afghanistan                          0.937724   \n",
       "1                  Albania                          0.991177   \n",
       "2                  Algeria                          0.976518   \n",
       "3                   Angola                          0.922835   \n",
       "4      Antigua and Barbuda                          0.993559   \n",
       "\n",
       "       Expected Years of School  Harmonized Test Scores  \\\n",
       "index                                                     \n",
       "0                      8.901891              354.758789   \n",
       "1                     12.889381              434.127594   \n",
       "2                     11.848035              374.089081   \n",
       "3                      8.120066              325.965485   \n",
       "4                     12.967560              406.997437   \n",
       "\n",
       "       Learning-Adjusted Years of School  Adult Survival Rate  \\\n",
       "index                                                           \n",
       "0                               5.052838             0.787741   \n",
       "1                               8.953018             0.929366   \n",
       "2                               7.091553             0.909282   \n",
       "3                               4.234978             0.729359   \n",
       "4                               8.444422             0.897208   \n",
       "\n",
       "       HUMAN CAPITAL INDEX 2020          2020  Region_encoded  \\\n",
       "index                                                           \n",
       "0                      0.400284    516.866552             5.0   \n",
       "1                      0.634251   5332.160475             1.0   \n",
       "2                      0.534556   3337.252512             3.0   \n",
       "3                      0.362405   1603.993477             6.0   \n",
       "4                      0.595704  14787.635780             2.0   \n",
       "\n",
       "       Income Group_encoded  ...  Region_Europe & Central Asia  \\\n",
       "index                        ...                                 \n",
       "0                       1.0  ...                           0.0   \n",
       "1                       3.0  ...                           1.0   \n",
       "2                       2.0  ...                           0.0   \n",
       "3                       2.0  ...                           0.0   \n",
       "4                       0.0  ...                           0.0   \n",
       "\n",
       "       Region_Latin America & Caribbean  Region_Middle East & North Africa  \\\n",
       "index                                                                        \n",
       "0                                   0.0                                0.0   \n",
       "1                                   0.0                                0.0   \n",
       "2                                   0.0                                1.0   \n",
       "3                                   0.0                                0.0   \n",
       "4                                   1.0                                0.0   \n",
       "\n",
       "       Region_North America  Region_South Asia  Region_Sub-Saharan Africa  \\\n",
       "index                                                                       \n",
       "0                       0.0                1.0                        0.0   \n",
       "1                       0.0                0.0                        0.0   \n",
       "2                       0.0                0.0                        0.0   \n",
       "3                       0.0                0.0                        1.0   \n",
       "4                       0.0                0.0                        0.0   \n",
       "\n",
       "       Income Group_High income  Income Group_Low income  \\\n",
       "index                                                      \n",
       "0                           0.0                      1.0   \n",
       "1                           0.0                      0.0   \n",
       "2                           0.0                      0.0   \n",
       "3                           0.0                      0.0   \n",
       "4                           1.0                      0.0   \n",
       "\n",
       "       Income Group_Lower middle income  Income Group_Upper middle income  \n",
       "index                                                                      \n",
       "0                                   0.0                               0.0  \n",
       "1                                   0.0                               1.0  \n",
       "2                                   1.0                               0.0  \n",
       "3                                   1.0                               0.0  \n",
       "4                                   0.0                               0.0  \n",
       "\n",
       "[5 rows x 21 columns]"
      ]
     },
     "execution_count": 50,
     "metadata": {},
     "output_type": "execute_result"
    }
   ],
   "source": [
    "# Merge encoded_df (clean data) and df (country name)\n",
    "\n",
    "# index country name from original dataframe\n",
    "df_country = df[\"Country Name\"]\n",
    "df_country= df_country.to_frame()\n",
    "\n",
    "# set the row number as the index\n",
    "df_country.index.name = \"index\"\n",
    "encoded_df.index.name = \"index\"\n",
    "\n",
    "# # join the DataFrames on the index column\n",
    "final_df_country = df_country.merge(encoded_df, left_index=True, right_index=True)\n",
    "\n",
    "# # print the result\n",
    "final_df_country.head()\n",
    "# final_df_country.to_csv('final_df_country.csv', index=False)\n"
   ]
  },
  {
   "attachments": {},
   "cell_type": "markdown",
   "metadata": {},
   "source": [
    "<h2>Methods</h2>\n"
   ]
  },
  {
   "attachments": {},
   "cell_type": "markdown",
   "metadata": {},
   "source": [
    "<h4>Removing Outliers Using Z-Scores</h4>"
   ]
  },
  {
   "cell_type": "code",
   "execution_count": 51,
   "metadata": {},
   "outputs": [
    {
     "data": {
      "text/html": [
       "<div>\n",
       "<style scoped>\n",
       "    .dataframe tbody tr th:only-of-type {\n",
       "        vertical-align: middle;\n",
       "    }\n",
       "\n",
       "    .dataframe tbody tr th {\n",
       "        vertical-align: top;\n",
       "    }\n",
       "\n",
       "    .dataframe thead th {\n",
       "        text-align: right;\n",
       "    }\n",
       "</style>\n",
       "<table border=\"1\" class=\"dataframe\">\n",
       "  <thead>\n",
       "    <tr style=\"text-align: right;\">\n",
       "      <th></th>\n",
       "      <th>Probability of Survival to Age 5</th>\n",
       "      <th>Expected Years of School</th>\n",
       "      <th>Harmonized Test Scores</th>\n",
       "      <th>Learning-Adjusted Years of School</th>\n",
       "      <th>Adult Survival Rate</th>\n",
       "      <th>HUMAN CAPITAL INDEX 2020</th>\n",
       "      <th>2020</th>\n",
       "      <th>Region_encoded</th>\n",
       "      <th>Income Group_encoded</th>\n",
       "      <th>Region_East Asia &amp; Pacific</th>\n",
       "      <th>Region_Europe &amp; Central Asia</th>\n",
       "      <th>Region_Latin America &amp; Caribbean</th>\n",
       "      <th>Region_Middle East &amp; North Africa</th>\n",
       "      <th>Region_North America</th>\n",
       "      <th>Region_South Asia</th>\n",
       "      <th>Region_Sub-Saharan Africa</th>\n",
       "      <th>Income Group_High income</th>\n",
       "      <th>Income Group_Low income</th>\n",
       "      <th>Income Group_Lower middle income</th>\n",
       "      <th>Income Group_Upper middle income</th>\n",
       "    </tr>\n",
       "    <tr>\n",
       "      <th>index</th>\n",
       "      <th></th>\n",
       "      <th></th>\n",
       "      <th></th>\n",
       "      <th></th>\n",
       "      <th></th>\n",
       "      <th></th>\n",
       "      <th></th>\n",
       "      <th></th>\n",
       "      <th></th>\n",
       "      <th></th>\n",
       "      <th></th>\n",
       "      <th></th>\n",
       "      <th></th>\n",
       "      <th></th>\n",
       "      <th></th>\n",
       "      <th></th>\n",
       "      <th></th>\n",
       "      <th></th>\n",
       "      <th></th>\n",
       "      <th></th>\n",
       "    </tr>\n",
       "  </thead>\n",
       "  <tbody>\n",
       "    <tr>\n",
       "      <th>0</th>\n",
       "      <td>0.937724</td>\n",
       "      <td>8.901891</td>\n",
       "      <td>354.758789</td>\n",
       "      <td>5.052838</td>\n",
       "      <td>0.787741</td>\n",
       "      <td>0.400284</td>\n",
       "      <td>516.866552</td>\n",
       "      <td>5.0</td>\n",
       "      <td>1.0</td>\n",
       "      <td>0.0</td>\n",
       "      <td>0.0</td>\n",
       "      <td>0.0</td>\n",
       "      <td>0.0</td>\n",
       "      <td>0.0</td>\n",
       "      <td>1.0</td>\n",
       "      <td>0.0</td>\n",
       "      <td>0.0</td>\n",
       "      <td>1.0</td>\n",
       "      <td>0.0</td>\n",
       "      <td>0.0</td>\n",
       "    </tr>\n",
       "    <tr>\n",
       "      <th>1</th>\n",
       "      <td>0.991177</td>\n",
       "      <td>12.889381</td>\n",
       "      <td>434.127594</td>\n",
       "      <td>8.953018</td>\n",
       "      <td>0.929366</td>\n",
       "      <td>0.634251</td>\n",
       "      <td>5332.160475</td>\n",
       "      <td>1.0</td>\n",
       "      <td>3.0</td>\n",
       "      <td>0.0</td>\n",
       "      <td>1.0</td>\n",
       "      <td>0.0</td>\n",
       "      <td>0.0</td>\n",
       "      <td>0.0</td>\n",
       "      <td>0.0</td>\n",
       "      <td>0.0</td>\n",
       "      <td>0.0</td>\n",
       "      <td>0.0</td>\n",
       "      <td>0.0</td>\n",
       "      <td>1.0</td>\n",
       "    </tr>\n",
       "    <tr>\n",
       "      <th>2</th>\n",
       "      <td>0.976518</td>\n",
       "      <td>11.848035</td>\n",
       "      <td>374.089081</td>\n",
       "      <td>7.091553</td>\n",
       "      <td>0.909282</td>\n",
       "      <td>0.534556</td>\n",
       "      <td>3337.252512</td>\n",
       "      <td>3.0</td>\n",
       "      <td>2.0</td>\n",
       "      <td>0.0</td>\n",
       "      <td>0.0</td>\n",
       "      <td>0.0</td>\n",
       "      <td>1.0</td>\n",
       "      <td>0.0</td>\n",
       "      <td>0.0</td>\n",
       "      <td>0.0</td>\n",
       "      <td>0.0</td>\n",
       "      <td>0.0</td>\n",
       "      <td>1.0</td>\n",
       "      <td>0.0</td>\n",
       "    </tr>\n",
       "    <tr>\n",
       "      <th>3</th>\n",
       "      <td>0.922835</td>\n",
       "      <td>8.120066</td>\n",
       "      <td>325.965485</td>\n",
       "      <td>4.234978</td>\n",
       "      <td>0.729359</td>\n",
       "      <td>0.362405</td>\n",
       "      <td>1603.993477</td>\n",
       "      <td>6.0</td>\n",
       "      <td>2.0</td>\n",
       "      <td>0.0</td>\n",
       "      <td>0.0</td>\n",
       "      <td>0.0</td>\n",
       "      <td>0.0</td>\n",
       "      <td>0.0</td>\n",
       "      <td>0.0</td>\n",
       "      <td>1.0</td>\n",
       "      <td>0.0</td>\n",
       "      <td>0.0</td>\n",
       "      <td>1.0</td>\n",
       "      <td>0.0</td>\n",
       "    </tr>\n",
       "    <tr>\n",
       "      <th>4</th>\n",
       "      <td>0.993559</td>\n",
       "      <td>12.967560</td>\n",
       "      <td>406.997437</td>\n",
       "      <td>8.444422</td>\n",
       "      <td>0.897208</td>\n",
       "      <td>0.595704</td>\n",
       "      <td>14787.635780</td>\n",
       "      <td>2.0</td>\n",
       "      <td>0.0</td>\n",
       "      <td>0.0</td>\n",
       "      <td>0.0</td>\n",
       "      <td>1.0</td>\n",
       "      <td>0.0</td>\n",
       "      <td>0.0</td>\n",
       "      <td>0.0</td>\n",
       "      <td>0.0</td>\n",
       "      <td>1.0</td>\n",
       "      <td>0.0</td>\n",
       "      <td>0.0</td>\n",
       "      <td>0.0</td>\n",
       "    </tr>\n",
       "  </tbody>\n",
       "</table>\n",
       "</div>"
      ],
      "text/plain": [
       "       Probability of Survival to Age 5  Expected Years of School  \\\n",
       "index                                                               \n",
       "0                              0.937724                  8.901891   \n",
       "1                              0.991177                 12.889381   \n",
       "2                              0.976518                 11.848035   \n",
       "3                              0.922835                  8.120066   \n",
       "4                              0.993559                 12.967560   \n",
       "\n",
       "       Harmonized Test Scores  Learning-Adjusted Years of School  \\\n",
       "index                                                              \n",
       "0                  354.758789                           5.052838   \n",
       "1                  434.127594                           8.953018   \n",
       "2                  374.089081                           7.091553   \n",
       "3                  325.965485                           4.234978   \n",
       "4                  406.997437                           8.444422   \n",
       "\n",
       "       Adult Survival Rate  HUMAN CAPITAL INDEX 2020          2020  \\\n",
       "index                                                                \n",
       "0                 0.787741                  0.400284    516.866552   \n",
       "1                 0.929366                  0.634251   5332.160475   \n",
       "2                 0.909282                  0.534556   3337.252512   \n",
       "3                 0.729359                  0.362405   1603.993477   \n",
       "4                 0.897208                  0.595704  14787.635780   \n",
       "\n",
       "       Region_encoded  Income Group_encoded  Region_East Asia & Pacific  \\\n",
       "index                                                                     \n",
       "0                 5.0                   1.0                         0.0   \n",
       "1                 1.0                   3.0                         0.0   \n",
       "2                 3.0                   2.0                         0.0   \n",
       "3                 6.0                   2.0                         0.0   \n",
       "4                 2.0                   0.0                         0.0   \n",
       "\n",
       "       Region_Europe & Central Asia  Region_Latin America & Caribbean  \\\n",
       "index                                                                   \n",
       "0                               0.0                               0.0   \n",
       "1                               1.0                               0.0   \n",
       "2                               0.0                               0.0   \n",
       "3                               0.0                               0.0   \n",
       "4                               0.0                               1.0   \n",
       "\n",
       "       Region_Middle East & North Africa  Region_North America  \\\n",
       "index                                                            \n",
       "0                                    0.0                   0.0   \n",
       "1                                    0.0                   0.0   \n",
       "2                                    1.0                   0.0   \n",
       "3                                    0.0                   0.0   \n",
       "4                                    0.0                   0.0   \n",
       "\n",
       "       Region_South Asia  Region_Sub-Saharan Africa  Income Group_High income  \\\n",
       "index                                                                           \n",
       "0                    1.0                        0.0                       0.0   \n",
       "1                    0.0                        0.0                       0.0   \n",
       "2                    0.0                        0.0                       0.0   \n",
       "3                    0.0                        1.0                       0.0   \n",
       "4                    0.0                        0.0                       1.0   \n",
       "\n",
       "       Income Group_Low income  Income Group_Lower middle income  \\\n",
       "index                                                              \n",
       "0                          1.0                               0.0   \n",
       "1                          0.0                               0.0   \n",
       "2                          0.0                               1.0   \n",
       "3                          0.0                               1.0   \n",
       "4                          0.0                               0.0   \n",
       "\n",
       "       Income Group_Upper middle income  \n",
       "index                                    \n",
       "0                                   0.0  \n",
       "1                                   1.0  \n",
       "2                                   0.0  \n",
       "3                                   0.0  \n",
       "4                                   0.0  "
      ]
     },
     "execution_count": 51,
     "metadata": {},
     "output_type": "execute_result"
    }
   ],
   "source": [
    "import numpy as np\n",
    "from scipy import stats\n",
    "\n",
    "# calculate z-scores for each data point in the column\n",
    "z_scores = stats.zscore(encoded_df[\"2020\"])\n",
    "\n",
    "# remove the rows with outliers in the \"2020\" column\n",
    "encoded_df = encoded_df[np.abs(z_scores) < 3]\n",
    "\n",
    "encoded_df.head()"
   ]
  },
  {
   "attachments": {},
   "cell_type": "markdown",
   "metadata": {},
   "source": [
    "<h4>Modeling</h4>"
   ]
  },
  {
   "attachments": {},
   "cell_type": "markdown",
   "metadata": {},
   "source": [
    "- After removing the outliers, we wanted to split the data into a training and testing data set with a 80/20 split, respectively because we felt an 80/20 split was appropriate since we did not have that much data, so we wanted to make sure our model was well-trained (hence the high 80% on training set).\n",
    "\n",
    "- We wanted to run three models: Linear Regression (base model), Support Vector Machines (SVM), and K-nearest neighbors (KNN).\n",
    "\n",
    "- Linear Regression is a base model. We started with the assumption that there is a linear relationship between HCI and GDP. \n",
    "\n",
    "- Support Vector Reggression was used to try to find a more accurate model. We chose SVR because the relationship between HCI and GDP may be non-linear and SVR will account for that, unlike linear regression. \n",
    "\n",
    "- KNN model was chosen because how it can effectively handle a small number of features and be less sensitive to hyperparameters. \n",
    "\n"
   ]
  },
  {
   "cell_type": "code",
   "execution_count": 52,
   "metadata": {},
   "outputs": [
    {
     "data": {
      "text/html": [
       "<style>#sk-container-id-5 {color: black;background-color: white;}#sk-container-id-5 pre{padding: 0;}#sk-container-id-5 div.sk-toggleable {background-color: white;}#sk-container-id-5 label.sk-toggleable__label {cursor: pointer;display: block;width: 100%;margin-bottom: 0;padding: 0.3em;box-sizing: border-box;text-align: center;}#sk-container-id-5 label.sk-toggleable__label-arrow:before {content: \"▸\";float: left;margin-right: 0.25em;color: #696969;}#sk-container-id-5 label.sk-toggleable__label-arrow:hover:before {color: black;}#sk-container-id-5 div.sk-estimator:hover label.sk-toggleable__label-arrow:before {color: black;}#sk-container-id-5 div.sk-toggleable__content {max-height: 0;max-width: 0;overflow: hidden;text-align: left;background-color: #f0f8ff;}#sk-container-id-5 div.sk-toggleable__content pre {margin: 0.2em;color: black;border-radius: 0.25em;background-color: #f0f8ff;}#sk-container-id-5 input.sk-toggleable__control:checked~div.sk-toggleable__content {max-height: 200px;max-width: 100%;overflow: auto;}#sk-container-id-5 input.sk-toggleable__control:checked~label.sk-toggleable__label-arrow:before {content: \"▾\";}#sk-container-id-5 div.sk-estimator input.sk-toggleable__control:checked~label.sk-toggleable__label {background-color: #d4ebff;}#sk-container-id-5 div.sk-label input.sk-toggleable__control:checked~label.sk-toggleable__label {background-color: #d4ebff;}#sk-container-id-5 input.sk-hidden--visually {border: 0;clip: rect(1px 1px 1px 1px);clip: rect(1px, 1px, 1px, 1px);height: 1px;margin: -1px;overflow: hidden;padding: 0;position: absolute;width: 1px;}#sk-container-id-5 div.sk-estimator {font-family: monospace;background-color: #f0f8ff;border: 1px dotted black;border-radius: 0.25em;box-sizing: border-box;margin-bottom: 0.5em;}#sk-container-id-5 div.sk-estimator:hover {background-color: #d4ebff;}#sk-container-id-5 div.sk-parallel-item::after {content: \"\";width: 100%;border-bottom: 1px solid gray;flex-grow: 1;}#sk-container-id-5 div.sk-label:hover label.sk-toggleable__label {background-color: #d4ebff;}#sk-container-id-5 div.sk-serial::before {content: \"\";position: absolute;border-left: 1px solid gray;box-sizing: border-box;top: 0;bottom: 0;left: 50%;z-index: 0;}#sk-container-id-5 div.sk-serial {display: flex;flex-direction: column;align-items: center;background-color: white;padding-right: 0.2em;padding-left: 0.2em;position: relative;}#sk-container-id-5 div.sk-item {position: relative;z-index: 1;}#sk-container-id-5 div.sk-parallel {display: flex;align-items: stretch;justify-content: center;background-color: white;position: relative;}#sk-container-id-5 div.sk-item::before, #sk-container-id-5 div.sk-parallel-item::before {content: \"\";position: absolute;border-left: 1px solid gray;box-sizing: border-box;top: 0;bottom: 0;left: 50%;z-index: -1;}#sk-container-id-5 div.sk-parallel-item {display: flex;flex-direction: column;z-index: 1;position: relative;background-color: white;}#sk-container-id-5 div.sk-parallel-item:first-child::after {align-self: flex-end;width: 50%;}#sk-container-id-5 div.sk-parallel-item:last-child::after {align-self: flex-start;width: 50%;}#sk-container-id-5 div.sk-parallel-item:only-child::after {width: 0;}#sk-container-id-5 div.sk-dashed-wrapped {border: 1px dashed gray;margin: 0 0.4em 0.5em 0.4em;box-sizing: border-box;padding-bottom: 0.4em;background-color: white;}#sk-container-id-5 div.sk-label label {font-family: monospace;font-weight: bold;display: inline-block;line-height: 1.2em;}#sk-container-id-5 div.sk-label-container {text-align: center;}#sk-container-id-5 div.sk-container {/* jupyter's `normalize.less` sets `[hidden] { display: none; }` but bootstrap.min.css set `[hidden] { display: none !important; }` so we also need the `!important` here to be able to override the default hidden behavior on the sphinx rendered scikit-learn.org. See: https://github.com/scikit-learn/scikit-learn/issues/21755 */display: inline-block !important;position: relative;}#sk-container-id-5 div.sk-text-repr-fallback {display: none;}</style><div id=\"sk-container-id-5\" class=\"sk-top-container\"><div class=\"sk-text-repr-fallback\"><pre>SVR()</pre><b>In a Jupyter environment, please rerun this cell to show the HTML representation or trust the notebook. <br />On GitHub, the HTML representation is unable to render, please try loading this page with nbviewer.org.</b></div><div class=\"sk-container\" hidden><div class=\"sk-item\"><div class=\"sk-estimator sk-toggleable\"><input class=\"sk-toggleable__control sk-hidden--visually\" id=\"sk-estimator-id-5\" type=\"checkbox\" checked><label for=\"sk-estimator-id-5\" class=\"sk-toggleable__label sk-toggleable__label-arrow\">SVR</label><div class=\"sk-toggleable__content\"><pre>SVR()</pre></div></div></div></div></div>"
      ],
      "text/plain": [
       "SVR()"
      ]
     },
     "execution_count": 52,
     "metadata": {},
     "output_type": "execute_result"
    }
   ],
   "source": [
    "from sklearn.model_selection import train_test_split\n",
    "\n",
    "# Split the dataset into features and labels\n",
    "X = encoded_df.drop('2020', axis=1)\n",
    "y = encoded_df['2020']\n",
    "\n",
    "# Split the data into training and test sets\n",
    "X_train, X_test, y_train, y_test = train_test_split(X, y, test_size=0.2, random_state=42)\n",
    "\n",
    "# Import the necessary modules\n",
    "from sklearn.linear_model import LinearRegression\n",
    "from sklearn.svm import SVR\n",
    "\n",
    "# Fit a linear regression model\n",
    "lr = LinearRegression()\n",
    "lr.fit(X_train, y_train)\n",
    "\n",
    "# Fit an SVM model\n",
    "svm = SVR()\n",
    "svm.fit(X, y)"
   ]
  },
  {
   "cell_type": "code",
   "execution_count": 53,
   "metadata": {},
   "outputs": [
    {
     "data": {
      "text/html": [
       "<style>#sk-container-id-6 {color: black;background-color: white;}#sk-container-id-6 pre{padding: 0;}#sk-container-id-6 div.sk-toggleable {background-color: white;}#sk-container-id-6 label.sk-toggleable__label {cursor: pointer;display: block;width: 100%;margin-bottom: 0;padding: 0.3em;box-sizing: border-box;text-align: center;}#sk-container-id-6 label.sk-toggleable__label-arrow:before {content: \"▸\";float: left;margin-right: 0.25em;color: #696969;}#sk-container-id-6 label.sk-toggleable__label-arrow:hover:before {color: black;}#sk-container-id-6 div.sk-estimator:hover label.sk-toggleable__label-arrow:before {color: black;}#sk-container-id-6 div.sk-toggleable__content {max-height: 0;max-width: 0;overflow: hidden;text-align: left;background-color: #f0f8ff;}#sk-container-id-6 div.sk-toggleable__content pre {margin: 0.2em;color: black;border-radius: 0.25em;background-color: #f0f8ff;}#sk-container-id-6 input.sk-toggleable__control:checked~div.sk-toggleable__content {max-height: 200px;max-width: 100%;overflow: auto;}#sk-container-id-6 input.sk-toggleable__control:checked~label.sk-toggleable__label-arrow:before {content: \"▾\";}#sk-container-id-6 div.sk-estimator input.sk-toggleable__control:checked~label.sk-toggleable__label {background-color: #d4ebff;}#sk-container-id-6 div.sk-label input.sk-toggleable__control:checked~label.sk-toggleable__label {background-color: #d4ebff;}#sk-container-id-6 input.sk-hidden--visually {border: 0;clip: rect(1px 1px 1px 1px);clip: rect(1px, 1px, 1px, 1px);height: 1px;margin: -1px;overflow: hidden;padding: 0;position: absolute;width: 1px;}#sk-container-id-6 div.sk-estimator {font-family: monospace;background-color: #f0f8ff;border: 1px dotted black;border-radius: 0.25em;box-sizing: border-box;margin-bottom: 0.5em;}#sk-container-id-6 div.sk-estimator:hover {background-color: #d4ebff;}#sk-container-id-6 div.sk-parallel-item::after {content: \"\";width: 100%;border-bottom: 1px solid gray;flex-grow: 1;}#sk-container-id-6 div.sk-label:hover label.sk-toggleable__label {background-color: #d4ebff;}#sk-container-id-6 div.sk-serial::before {content: \"\";position: absolute;border-left: 1px solid gray;box-sizing: border-box;top: 0;bottom: 0;left: 50%;z-index: 0;}#sk-container-id-6 div.sk-serial {display: flex;flex-direction: column;align-items: center;background-color: white;padding-right: 0.2em;padding-left: 0.2em;position: relative;}#sk-container-id-6 div.sk-item {position: relative;z-index: 1;}#sk-container-id-6 div.sk-parallel {display: flex;align-items: stretch;justify-content: center;background-color: white;position: relative;}#sk-container-id-6 div.sk-item::before, #sk-container-id-6 div.sk-parallel-item::before {content: \"\";position: absolute;border-left: 1px solid gray;box-sizing: border-box;top: 0;bottom: 0;left: 50%;z-index: -1;}#sk-container-id-6 div.sk-parallel-item {display: flex;flex-direction: column;z-index: 1;position: relative;background-color: white;}#sk-container-id-6 div.sk-parallel-item:first-child::after {align-self: flex-end;width: 50%;}#sk-container-id-6 div.sk-parallel-item:last-child::after {align-self: flex-start;width: 50%;}#sk-container-id-6 div.sk-parallel-item:only-child::after {width: 0;}#sk-container-id-6 div.sk-dashed-wrapped {border: 1px dashed gray;margin: 0 0.4em 0.5em 0.4em;box-sizing: border-box;padding-bottom: 0.4em;background-color: white;}#sk-container-id-6 div.sk-label label {font-family: monospace;font-weight: bold;display: inline-block;line-height: 1.2em;}#sk-container-id-6 div.sk-label-container {text-align: center;}#sk-container-id-6 div.sk-container {/* jupyter's `normalize.less` sets `[hidden] { display: none; }` but bootstrap.min.css set `[hidden] { display: none !important; }` so we also need the `!important` here to be able to override the default hidden behavior on the sphinx rendered scikit-learn.org. See: https://github.com/scikit-learn/scikit-learn/issues/21755 */display: inline-block !important;position: relative;}#sk-container-id-6 div.sk-text-repr-fallback {display: none;}</style><div id=\"sk-container-id-6\" class=\"sk-top-container\"><div class=\"sk-text-repr-fallback\"><pre>KNeighborsRegressor(n_neighbors=8)</pre><b>In a Jupyter environment, please rerun this cell to show the HTML representation or trust the notebook. <br />On GitHub, the HTML representation is unable to render, please try loading this page with nbviewer.org.</b></div><div class=\"sk-container\" hidden><div class=\"sk-item\"><div class=\"sk-estimator sk-toggleable\"><input class=\"sk-toggleable__control sk-hidden--visually\" id=\"sk-estimator-id-6\" type=\"checkbox\" checked><label for=\"sk-estimator-id-6\" class=\"sk-toggleable__label sk-toggleable__label-arrow\">KNeighborsRegressor</label><div class=\"sk-toggleable__content\"><pre>KNeighborsRegressor(n_neighbors=8)</pre></div></div></div></div></div>"
      ],
      "text/plain": [
       "KNeighborsRegressor(n_neighbors=8)"
      ]
     },
     "execution_count": 53,
     "metadata": {},
     "output_type": "execute_result"
    }
   ],
   "source": [
    "from sklearn.neighbors import KNeighborsRegressor\n",
    "\n",
    "\n",
    "#create the KNN model\n",
    "knn = KNeighborsRegressor(n_neighbors=8)\n",
    "\n",
    "# fit the model to the scaled training data\n",
    "knn.fit(X_train, y_train)"
   ]
  },
  {
   "attachments": {},
   "cell_type": "markdown",
   "metadata": {},
   "source": [
    "<h4>R-Squared Comparisons</h4>\n",
    "\n",
    "We wanted to use R-squared, which is the proportion of variation in dependent variable explained and predicted by the independent variable, as the primary performance metric to see which models were most effective in predicting GDP per capita using HCI data. We found Linear Regression to have the highest R-Squared out of the three models of 0.8406, so we used the Linear Regression model to represent our predicted GDP per capita score through an interactive map visualization. The KNN models R-Squared score was 0.4937 and the SVR R-Squared score was -0.1696. It is important that the SVR R-Square score was negative here, indicating that this model was not a good fit for our dataset. "
   ]
  },
  {
   "cell_type": "code",
   "execution_count": 54,
   "metadata": {},
   "outputs": [
    {
     "name": "stdout",
     "output_type": "stream",
     "text": [
      "Linear Regression MSE: 34615379.5099 R2: 0.8406\n",
      "SVR MSE: 254030694.3569 R2: -0.1696\n",
      "KNN MSE: 109963918.1055 R2: 0.4937\n"
     ]
    }
   ],
   "source": [
    "from sklearn.metrics import mean_squared_error, r2_score\n",
    "\n",
    "# Use the linear regression model to make predictions on the test set\n",
    "y_pred_lr = lr.predict(X_test)\n",
    "\n",
    "# Use the SVR model to make predictions on the test set\n",
    "y_pred_svm = svm.predict(X_test)\n",
    "\n",
    "# Evaluate the linear regression model using the test set\n",
    "mse_lr = mean_squared_error(y_test, y_pred_lr)\n",
    "r2_lr = r2_score(y_test, y_pred_lr)\n",
    "\n",
    "# Evaluate the SVR model using the test set\n",
    "mse_svm = mean_squared_error(y_test, y_pred_svm)\n",
    "r2_svm = r2_score(y_test, y_pred_svm)\n",
    "\n",
    "print(\"Linear Regression MSE: {:.4f} R2: {:.4f}\".format(mse_lr, r2_lr))\n",
    "print(\"SVR MSE: {:.4f} R2: {:.4f}\".format(mse_svm, r2_svm))\n",
    "\n",
    "\n",
    "# Use the knn model to make predictions on the test set\n",
    "y_pred_knn = knn.predict(X_test)\n",
    "\n",
    "\n",
    "# Evaluate the knn model using the test set\n",
    "mse_knn = mean_squared_error(y_test, y_pred_knn)\n",
    "r2_knn = r2_score(y_test, y_pred_knn)\n",
    "\n",
    "print(\"KNN MSE: {:.4f} R2: {:.4f}\".format(mse_knn, r2_knn))"
   ]
  },
  {
   "attachments": {},
   "cell_type": "markdown",
   "metadata": {},
   "source": [
    "<h4>Linear Regression Predictions</h4>\n",
    "\n",
    "Here, we are using our best model, Linear Regression, find the R-Squared score and the predicted GDP per capita for the whole dataset. Before, we only found the values for the 20% test dataset."
   ]
  },
  {
   "cell_type": "code",
   "execution_count": 55,
   "metadata": {},
   "outputs": [
    {
     "name": "stdout",
     "output_type": "stream",
     "text": [
      "0.7802252904685397\n"
     ]
    }
   ],
   "source": [
    "y_pred_lr_all = lr.predict(X)\n",
    "r2_pred_lr_all = r2_score(y, y_pred_lr_all)\n",
    "print(r2_pred_lr_all)\n",
    "#print(y_pred_lr_all)\n",
    "\n"
   ]
  },
  {
   "cell_type": "code",
   "execution_count": 56,
   "metadata": {},
   "outputs": [
    {
     "data": {
      "text/html": [
       "<div>\n",
       "<style scoped>\n",
       "    .dataframe tbody tr th:only-of-type {\n",
       "        vertical-align: middle;\n",
       "    }\n",
       "\n",
       "    .dataframe tbody tr th {\n",
       "        vertical-align: top;\n",
       "    }\n",
       "\n",
       "    .dataframe thead th {\n",
       "        text-align: right;\n",
       "    }\n",
       "</style>\n",
       "<table border=\"1\" class=\"dataframe\">\n",
       "  <thead>\n",
       "    <tr style=\"text-align: right;\">\n",
       "      <th></th>\n",
       "      <th>2020</th>\n",
       "      <th>Predicted</th>\n",
       "    </tr>\n",
       "  </thead>\n",
       "  <tbody>\n",
       "    <tr>\n",
       "      <th>0</th>\n",
       "      <td>516.866552</td>\n",
       "      <td>1048.507017</td>\n",
       "    </tr>\n",
       "    <tr>\n",
       "      <th>1</th>\n",
       "      <td>5332.160475</td>\n",
       "      <td>12036.039461</td>\n",
       "    </tr>\n",
       "    <tr>\n",
       "      <th>2</th>\n",
       "      <td>3337.252512</td>\n",
       "      <td>7421.897684</td>\n",
       "    </tr>\n",
       "    <tr>\n",
       "      <th>3</th>\n",
       "      <td>1603.993477</td>\n",
       "      <td>-1732.400091</td>\n",
       "    </tr>\n",
       "    <tr>\n",
       "      <th>4</th>\n",
       "      <td>14787.635780</td>\n",
       "      <td>19192.659353</td>\n",
       "    </tr>\n",
       "  </tbody>\n",
       "</table>\n",
       "</div>"
      ],
      "text/plain": [
       "           2020     Predicted\n",
       "0    516.866552   1048.507017\n",
       "1   5332.160475  12036.039461\n",
       "2   3337.252512   7421.897684\n",
       "3   1603.993477  -1732.400091\n",
       "4  14787.635780  19192.659353"
      ]
     },
     "execution_count": 56,
     "metadata": {},
     "output_type": "execute_result"
    }
   ],
   "source": [
    "predicted_df = pd.DataFrame(y_pred_lr_all, columns=[\"Predicted\"])\n",
    "\n",
    "# reset the index of the test set\n",
    "\n",
    "# concatenate the test set with the predicted values\n",
    "result_df = pd.concat([y, predicted_df], axis=1)\n",
    "\n",
    "result_df.head()\n",
    "\n",
    "# result_df.to_csv('actual_predicted_values.csv', index = False)"
   ]
  },
  {
   "attachments": {},
   "cell_type": "markdown",
   "metadata": {},
   "source": [
    "<h2>Evaluation of the model</h2>"
   ]
  },
  {
   "attachments": {},
   "cell_type": "markdown",
   "metadata": {},
   "source": [
    "<h4>Linear Regression Scatterplot</h4>\n",
    "We wanted to efffectively represent the relationship between HCI and GDP per capita, so we decided to use a scatterplot because scatterplots are known to show whether or not a relationship exists between a multitude of data points. "
   ]
  },
  {
   "cell_type": "code",
   "execution_count": 57,
   "metadata": {},
   "outputs": [
    {
     "data": {
      "image/png": "[encoded data removed]",
      "text/plain": [
       "<Figure size 640x480 with 1 Axes>"
      ]
     },
     "metadata": {},
     "output_type": "display_data"
    }
   ],
   "source": [
    "import matplotlib.pyplot as plt\n",
    "\n",
    "x_plot = encoded_df[\"HUMAN CAPITAL INDEX 2020\"]\n",
    "y_plot = encoded_df[\"2020\"]\n",
    "#print(x_plot)\n",
    "# print(y_plot)\n",
    "\n",
    "\n",
    "\n",
    "actual_plot = plt.scatter(x_plot, y_plot, color = 'green')\n",
    "predicted_plot = plt.scatter(x_plot, y_pred_lr_all, color='red')\n",
    "\n",
    "#obtain m (slope) and b(intercept) of linear regression line\n",
    "\n",
    "#use red as color for regression line\n",
    "\n",
    "plt.legend((actual_plot, predicted_plot), (\"Actual\", \"Predicted\"))\n",
    "plt.xlabel('HCI')\n",
    "plt.ylabel('GDP')\n",
    "plt.title('Scatter plot with Actual and Predicted Points')\n",
    "plt.show()\n"
   ]
  },
  {
   "attachments": {},
   "cell_type": "markdown",
   "metadata": {},
   "source": [
    "This is a scatterplot of the HCI and GDP per capita actual and predicted values, where the predicted values are calculated from our Linear Regression model. There seems to be a strong, positive, and linear relationship between HCI and GDP per capita. Each data point represents a specific country in our dataset. As you can see, our predicted values from our Linear Regression model was not that far off from the actual values. "
   ]
  },
  {
   "cell_type": "code",
   "execution_count": 58,
   "metadata": {},
   "outputs": [
    {
     "data": {
      "image/png": "[encoded data removed]",
      "text/plain": [
       "<Figure size 640x480 with 1 Axes>"
      ]
     },
     "metadata": {},
     "output_type": "display_data"
    }
   ],
   "source": [
    "import matplotlib.pyplot as plt\n",
    "\n",
    "x_plot = encoded_df[\"HUMAN CAPITAL INDEX 2020\"]\n",
    "y_plot = encoded_df[\"2020\"]\n",
    "# print(x_plot)\n",
    "# print(y_plot)\n",
    "\n",
    "\n",
    "plt.scatter(x_plot, y_plot, color = 'green')\n",
    "#plt.plot(x_plot, y_pred_lr_all, color='green')\n",
    "\n",
    "#obtain m (slope) and b(intercept) of linear regression line\n",
    "m, b = np.polyfit(x_plot, y_plot, 1)\n",
    "\n",
    "#use red as color for regression line\n",
    "plt.plot(x_plot, m*x_plot+b, color='red')\n",
    "\n",
    "\n",
    "line = m*x_plot + b\n",
    "plt.plot(x_plot, line, 'r', label='y={:.2f}x+{:.2f}'.format(m,b))\n",
    "plt.legend(fontsize=9)\n",
    "\n",
    "\n",
    "\n",
    "plt.xlabel('HCI')\n",
    "plt.ylabel('GDP')\n",
    "plt.title('Scatter plot with linear regression line')\n",
    "plt.show()\n"
   ]
  },
  {
   "attachments": {},
   "cell_type": "markdown",
   "metadata": {},
   "source": [
    "This is a scatterplot of the actual HCI and GDP per capita values from our dataset that shows a strong, positive, and linear relationship between HCI and GDP per capita with a calculated regression like of 82449.56x + -34590.55. "
   ]
  },
  {
   "attachments": {},
   "cell_type": "markdown",
   "metadata": {},
   "source": [
    "<h4>World Map Visualizations</h4>"
   ]
  },
  {
   "cell_type": "code",
   "execution_count": 59,
   "metadata": {},
   "outputs": [
    {
     "data": {
      "application/vnd.plotly.v1+json": {
       "config": {
        "plotlyServerURL": "https://plot.ly"
       },
       "data": [
        {
         "autocolorscale": false,
         "colorbar": {
          "title": {
           "text": "HCI Score (0-1)"
          }
         },
         "colorscale": [
          [
           0,
           "rgb(75, 41, 145)"
          ],
          [
           0.16666666666666666,
           "rgb(135, 44, 162)"
          ],
          [
           0.3333333333333333,
           "rgb(192, 54, 157)"
          ],
          [
           0.5,
           "rgb(234, 79, 136)"
          ],
          [
           0.6666666666666666,
           "rgb(250, 120, 118)"
          ],
          [
           0.8333333333333334,
           "rgb(246, 169, 122)"
          ],
          [
           1,
           "rgb(237, 217, 163)"
          ]
         ],
         "locations": [
          "AFG",
          "ALB",
          "ALG",
          "AGO",
          "ATG",
          "ARG",
          "ARM",
          "AUS",
          "AUT",
          "AZE",
          "BHR",
          "BGD",
          "BLR",
          "BEL",
          "BEN",
          "BTN",
          "BIH",
          "BWA",
          "BRA",
          "VGB",
          "BGR",
          "BFA",
          "BDI",
          "KHM",
          "CMR",
          "CAN",
          "CAF",
          "TCD",
          "CHL",
          "CHN",
          "COL",
          "COM",
          "COD",
          "COG",
          "CRI",
          "HRV",
          "CYP",
          "DNK",
          "DMA",
          "DOM",
          "ECU",
          "EGY",
          "SLV",
          "EST",
          null,
          "ETH",
          "FJI",
          "FIN",
          "FRA",
          "GAB",
          "GMB",
          "GEO",
          "DEU",
          "GHA",
          "GRC",
          "GRD",
          "GTM",
          "GIN",
          "GUY",
          "HTI",
          "HND",
          "HKG",
          "HUN",
          "ISL",
          "IND",
          "IDN",
          "IRN",
          "IRQ",
          "IRL",
          "ISR",
          "ITA",
          "JAM",
          "JPN",
          "JOR",
          "KAZ",
          "KEN",
          "KIR",
          "KOR",
          "KSV",
          "KWT",
          "KGZ",
          "LAO",
          "LVA",
          "LBN",
          "LSO",
          "LBR",
          "LTU",
          "LUX",
          "MAC",
          "MDG",
          "MWI",
          "MYS",
          "MLI",
          "MLT",
          "MRT",
          "MUS",
          "MEX",
          "FSM",
          "MDA",
          "MNG",
          "MNE",
          "MAR",
          "MOZ",
          null,
          "NAM",
          null,
          "NPL",
          "NLD",
          "NZL",
          "NIC",
          "NGA",
          "NER",
          null,
          "NOR",
          "OMN",
          "PAK",
          "PLW",
          "PAN",
          "PNG",
          "PRY",
          "PER",
          "PHL",
          "POL",
          "PRT",
          "QAT",
          "ROU",
          "RUS",
          "RWA",
          "WSM",
          "SAU",
          "SEN",
          "SRB",
          "SYC",
          "SLE",
          "SGP",
          "SVK",
          "SVN",
          "SLB",
          "ZAF",
          null,
          null,
          null,
          "SDN",
          "SWE",
          "CHE",
          "TJK",
          "TZA",
          "THA",
          "TLS",
          "TGO",
          "TON",
          "TTO",
          "TUN",
          "TUV",
          "UGA",
          "UKR",
          "ARE",
          "GBR",
          "USA",
          "URY",
          "UZB",
          "VUT",
          "VNM",
          null
         ],
         "marker": {
          "line": {
           "color": "darkgray",
           "width": 0.5
          }
         },
         "reversescale": true,
         "text": [
          "Afghanistan",
          "Albania",
          "Algeria",
          "Angola",
          "Antigua and Barbuda",
          "Argentina",
          "Armenia",
          "Australia",
          "Austria",
          "Azerbaijan",
          "Bahrain",
          "Bangladesh",
          "Belarus",
          "Belgium",
          "Benin",
          "Bhutan",
          "Bosnia and Herzegovina",
          "Botswana",
          "Brazil",
          "Brunei Darussalam",
          "Bulgaria",
          "Burkina Faso",
          "Burundi",
          "Cambodia",
          "Cameroon",
          "Canada",
          "Central African Republic",
          "Chad",
          "Chile",
          "China",
          "Colombia",
          "Comoros",
          "Congo, Dem. Rep.",
          "Congo, Rep.",
          "Costa Rica",
          "Croatia",
          "Cyprus",
          "Denmark",
          "Dominica",
          "Dominican Republic",
          "Ecuador",
          "Egypt, Arab Rep.",
          "El Salvador",
          "Estonia",
          "Eswatini",
          "Ethiopia",
          "Fiji",
          "Finland",
          "France",
          "Gabon",
          "Gambia, The",
          "Georgia",
          "Germany",
          "Ghana",
          "Greece",
          "Grenada",
          "Guatemala",
          "Guinea",
          "Guyana",
          "Haiti",
          "Honduras",
          "Hong Kong SAR, China",
          "Hungary",
          "Iceland",
          "India",
          "Indonesia",
          "Iran, Islamic Rep.",
          "Iraq",
          "Ireland",
          "Israel",
          "Italy",
          "Jamaica",
          "Japan",
          "Jordan",
          "Kazakhstan",
          "Kenya",
          "Kiribati",
          "Korea, Rep.",
          "Kosovo",
          "Kuwait",
          "Kyrgyz Republic",
          "Lao PDR",
          "Latvia",
          "Lebanon",
          "Lesotho",
          "Liberia",
          "Lithuania",
          "Luxembourg",
          "Macao SAR, China",
          "Madagascar",
          "Malawi",
          "Malaysia",
          "Mali",
          "Malta",
          "Mauritania",
          "Mauritius",
          "Mexico",
          "Micronesia, Fed. Sts.",
          "Moldova",
          "Mongolia",
          "Montenegro",
          "Morocco",
          "Mozambique",
          "Myanmar",
          "Namibia",
          "Nauru",
          "Nepal",
          "Netherlands",
          "New Zealand",
          "Nicaragua",
          "Niger",
          "Nigeria",
          "North Macedonia",
          "Norway",
          "Oman",
          "Pakistan",
          "Palau",
          "Panama",
          "Papua New Guinea",
          "Paraguay",
          "Peru",
          "Philippines",
          "Poland",
          "Portugal",
          "Qatar",
          "Romania",
          "Russian Federation",
          "Rwanda",
          "Samoa",
          "Saudi Arabia",
          "Senegal",
          "Serbia",
          "Seychelles",
          "Sierra Leone",
          "Singapore",
          "Slovak Republic",
          "Slovenia",
          "Solomon Islands",
          "South Africa",
          "St. Kitts and Nevis",
          "St. Lucia",
          "St. Vincent and the Grenadines",
          "Sudan",
          "Sweden",
          "Switzerland",
          "Tajikistan",
          "Tanzania",
          "Thailand",
          "Timor-Leste",
          "Togo",
          "Tonga",
          "Trinidad and Tobago",
          "Tunisia",
          "Tuvalu",
          "Uganda",
          "Ukraine",
          "United Arab Emirates",
          "United Kingdom",
          "United States",
          "Uruguay",
          "Uzbekistan",
          "Vanuatu",
          "Vietnam",
          "West Bank and Gaza"
         ],
         "type": "choropleth",
         "z": [
          0.400284141,
          0.634250939,
          0.534556448,
          0.36240539,
          0.5957039,
          0.602144718,
          0.578998804,
          0.770239532,
          0.746739745,
          0.577767551,
          0.652472019,
          0.464036435,
          0.700078189,
          0.760419667,
          0.400290728,
          0.475297034,
          0.579684079,
          0.414028496,
          0.551497936,
          0.626391351,
          0.613898158,
          0.383691937,
          0.386170626,
          0.491589874,
          0.397401512,
          0.797520101,
          0.291631907,
          0.299782783,
          0.651604176,
          0.653102636,
          0.604330301,
          0.404688299,
          0.366369277,
          0.419265717,
          0.628635049,
          0.709693968,
          0.755520225,
          0.755094826,
          0.54474932,
          0.502766907,
          0.594254851,
          0.494374663,
          0.546176612,
          0.777203202,
          0.372500807,
          0.382784843,
          0.508573294,
          0.796001017,
          0.762737215,
          0.457612455,
          0.421570629,
          0.568925798,
          0.751162469,
          0.450056404,
          0.690006495,
          0.56507051,
          0.461270094,
          0.370942473,
          0.495226473,
          0.446564913,
          0.481023133,
          0.812756538,
          0.683087289,
          0.745281875,
          0.493510902,
          0.540038466,
          0.593404472,
          0.407643288,
          0.792599022,
          0.733995318,
          0.727819681,
          0.534977913,
          0.804714262,
          0.553174376,
          0.628506422,
          0.546752512,
          0.492592931,
          0.798776269,
          0.567331731,
          0.562588036,
          0.596617103,
          0.456665337,
          0.706581414,
          0.515125513,
          0.400392592,
          0.319014221,
          0.706047952,
          0.68614614,
          0.795671582,
          0.391991019,
          0.413240641,
          0.61097616,
          0.318269581,
          0.709248304,
          0.38154608,
          0.621859252,
          0.612949848,
          0.505966544,
          0.584153533,
          0.614397526,
          0.63318181,
          0.504116356,
          0.362116665,
          0.477652013,
          0.446437538,
          0.508412123,
          0.504601777,
          0.789915025,
          0.775932431,
          0.508098245,
          0.315685183,
          0.360609829,
          0.557349205,
          0.771051168,
          0.608116269,
          0.406070024,
          0.588113487,
          0.501601994,
          0.429185003,
          0.528180063,
          0.605192661,
          0.515962124,
          0.753088593,
          0.768949568,
          0.637771606,
          0.584187865,
          0.681419611,
          0.379552752,
          0.548421681,
          0.576390505,
          0.420110792,
          0.676606357,
          0.632779062,
          0.362702101,
          0.879125714,
          0.664987326,
          0.774986982,
          0.419872612,
          0.425453395,
          0.728255033,
          0.598324299,
          0.586181641,
          0.602564752,
          0.533341825,
          0.377445191,
          0.795357108,
          0.756115139,
          0.504116356,
          0.389834702,
          0.609310985,
          0.45431453,
          0.431868047,
          0.531120658,
          0.60348773,
          0.51680994,
          0.447577119,
          0.384176582,
          0.631387115,
          0.673011899,
          0.782942951,
          0.701764345,
          0.598760247,
          0.622805715,
          0.454658538
         ]
        }
       ],
       "layout": {
        "geo": {
         "projection": {
          "type": "equirectangular"
         },
         "showcoastlines": false,
         "showframe": false
        },
        "template": {
         "data": {
          "bar": [
           {
            "error_x": {
             "color": "#2a3f5f"
            },
            "error_y": {
             "color": "#2a3f5f"
            },
            "marker": {
             "line": {
              "color": "#E5ECF6",
              "width": 0.5
             },
             "pattern": {
              "fillmode": "overlay",
              "size": 10,
              "solidity": 0.2
             }
            },
            "type": "bar"
           }
          ],
          "barpolar": [
           {
            "marker": {
             "line": {
              "color": "#E5ECF6",
              "width": 0.5
             },
             "pattern": {
              "fillmode": "overlay",
              "size": 10,
              "solidity": 0.2
             }
            },
            "type": "barpolar"
           }
          ],
          "carpet": [
           {
            "aaxis": {
             "endlinecolor": "#2a3f5f",
             "gridcolor": "white",
             "linecolor": "white",
             "minorgridcolor": "white",
             "startlinecolor": "#2a3f5f"
            },
            "baxis": {
             "endlinecolor": "#2a3f5f",
             "gridcolor": "white",
             "linecolor": "white",
             "minorgridcolor": "white",
             "startlinecolor": "#2a3f5f"
            },
            "type": "carpet"
           }
          ],
          "choropleth": [
           {
            "colorbar": {
             "outlinewidth": 0,
             "ticks": ""
            },
            "type": "choropleth"
           }
          ],
          "contour": [
           {
            "colorbar": {
             "outlinewidth": 0,
             "ticks": ""
            },
            "colorscale": [
             [
              0,
              "#0d0887"
             ],
             [
              0.1111111111111111,
              "#46039f"
             ],
             [
              0.2222222222222222,
              "#7201a8"
             ],
             [
              0.3333333333333333,
              "#9c179e"
             ],
             [
              0.4444444444444444,
              "#bd3786"
             ],
             [
              0.5555555555555556,
              "#d8576b"
             ],
             [
              0.6666666666666666,
              "#ed7953"
             ],
             [
              0.7777777777777778,
              "#fb9f3a"
             ],
             [
              0.8888888888888888,
              "#fdca26"
             ],
             [
              1,
              "#f0f921"
             ]
            ],
            "type": "contour"
           }
          ],
          "contourcarpet": [
           {
            "colorbar": {
             "outlinewidth": 0,
             "ticks": ""
            },
            "type": "contourcarpet"
           }
          ],
          "heatmap": [
           {
            "colorbar": {
             "outlinewidth": 0,
             "ticks": ""
            },
            "colorscale": [
             [
              0,
              "#0d0887"
             ],
             [
              0.1111111111111111,
              "#46039f"
             ],
             [
              0.2222222222222222,
              "#7201a8"
             ],
             [
              0.3333333333333333,
              "#9c179e"
             ],
             [
              0.4444444444444444,
              "#bd3786"
             ],
             [
              0.5555555555555556,
              "#d8576b"
             ],
             [
              0.6666666666666666,
              "#ed7953"
             ],
             [
              0.7777777777777778,
              "#fb9f3a"
             ],
             [
              0.8888888888888888,
              "#fdca26"
             ],
             [
              1,
              "#f0f921"
             ]
            ],
            "type": "heatmap"
           }
          ],
          "heatmapgl": [
           {
            "colorbar": {
             "outlinewidth": 0,
             "ticks": ""
            },
            "colorscale": [
             [
              0,
              "#0d0887"
             ],
             [
              0.1111111111111111,
              "#46039f"
             ],
             [
              0.2222222222222222,
              "#7201a8"
             ],
             [
              0.3333333333333333,
              "#9c179e"
             ],
             [
              0.4444444444444444,
              "#bd3786"
             ],
             [
              0.5555555555555556,
              "#d8576b"
             ],
             [
              0.6666666666666666,
              "#ed7953"
             ],
             [
              0.7777777777777778,
              "#fb9f3a"
             ],
             [
              0.8888888888888888,
              "#fdca26"
             ],
             [
              1,
              "#f0f921"
             ]
            ],
            "type": "heatmapgl"
           }
          ],
          "histogram": [
           {
            "marker": {
             "pattern": {
              "fillmode": "overlay",
              "size": 10,
              "solidity": 0.2
             }
            },
            "type": "histogram"
           }
          ],
          "histogram2d": [
           {
            "colorbar": {
             "outlinewidth": 0,
             "ticks": ""
            },
            "colorscale": [
             [
              0,
              "#0d0887"
             ],
             [
              0.1111111111111111,
              "#46039f"
             ],
             [
              0.2222222222222222,
              "#7201a8"
             ],
             [
              0.3333333333333333,
              "#9c179e"
             ],
             [
              0.4444444444444444,
              "#bd3786"
             ],
             [
              0.5555555555555556,
              "#d8576b"
             ],
             [
              0.6666666666666666,
              "#ed7953"
             ],
             [
              0.7777777777777778,
              "#fb9f3a"
             ],
             [
              0.8888888888888888,
              "#fdca26"
             ],
             [
              1,
              "#f0f921"
             ]
            ],
            "type": "histogram2d"
           }
          ],
          "histogram2dcontour": [
           {
            "colorbar": {
             "outlinewidth": 0,
             "ticks": ""
            },
            "colorscale": [
             [
              0,
              "#0d0887"
             ],
             [
              0.1111111111111111,
              "#46039f"
             ],
             [
              0.2222222222222222,
              "#7201a8"
             ],
             [
              0.3333333333333333,
              "#9c179e"
             ],
             [
              0.4444444444444444,
              "#bd3786"
             ],
             [
              0.5555555555555556,
              "#d8576b"
             ],
             [
              0.6666666666666666,
              "#ed7953"
             ],
             [
              0.7777777777777778,
              "#fb9f3a"
             ],
             [
              0.8888888888888888,
              "#fdca26"
             ],
             [
              1,
              "#f0f921"
             ]
            ],
            "type": "histogram2dcontour"
           }
          ],
          "mesh3d": [
           {
            "colorbar": {
             "outlinewidth": 0,
             "ticks": ""
            },
            "type": "mesh3d"
           }
          ],
          "parcoords": [
           {
            "line": {
             "colorbar": {
              "outlinewidth": 0,
              "ticks": ""
             }
            },
            "type": "parcoords"
           }
          ],
          "pie": [
           {
            "automargin": true,
            "type": "pie"
           }
          ],
          "scatter": [
           {
            "fillpattern": {
             "fillmode": "overlay",
             "size": 10,
             "solidity": 0.2
            },
            "type": "scatter"
           }
          ],
          "scatter3d": [
           {
            "line": {
             "colorbar": {
              "outlinewidth": 0,
              "ticks": ""
             }
            },
            "marker": {
             "colorbar": {
              "outlinewidth": 0,
              "ticks": ""
             }
            },
            "type": "scatter3d"
           }
          ],
          "scattercarpet": [
           {
            "marker": {
             "colorbar": {
              "outlinewidth": 0,
              "ticks": ""
             }
            },
            "type": "scattercarpet"
           }
          ],
          "scattergeo": [
           {
            "marker": {
             "colorbar": {
              "outlinewidth": 0,
              "ticks": ""
             }
            },
            "type": "scattergeo"
           }
          ],
          "scattergl": [
           {
            "marker": {
             "colorbar": {
              "outlinewidth": 0,
              "ticks": ""
             }
            },
            "type": "scattergl"
           }
          ],
          "scattermapbox": [
           {
            "marker": {
             "colorbar": {
              "outlinewidth": 0,
              "ticks": ""
             }
            },
            "type": "scattermapbox"
           }
          ],
          "scatterpolar": [
           {
            "marker": {
             "colorbar": {
              "outlinewidth": 0,
              "ticks": ""
             }
            },
            "type": "scatterpolar"
           }
          ],
          "scatterpolargl": [
           {
            "marker": {
             "colorbar": {
              "outlinewidth": 0,
              "ticks": ""
             }
            },
            "type": "scatterpolargl"
           }
          ],
          "scatterternary": [
           {
            "marker": {
             "colorbar": {
              "outlinewidth": 0,
              "ticks": ""
             }
            },
            "type": "scatterternary"
           }
          ],
          "surface": [
           {
            "colorbar": {
             "outlinewidth": 0,
             "ticks": ""
            },
            "colorscale": [
             [
              0,
              "#0d0887"
             ],
             [
              0.1111111111111111,
              "#46039f"
             ],
             [
              0.2222222222222222,
              "#7201a8"
             ],
             [
              0.3333333333333333,
              "#9c179e"
             ],
             [
              0.4444444444444444,
              "#bd3786"
             ],
             [
              0.5555555555555556,
              "#d8576b"
             ],
             [
              0.6666666666666666,
              "#ed7953"
             ],
             [
              0.7777777777777778,
              "#fb9f3a"
             ],
             [
              0.8888888888888888,
              "#fdca26"
             ],
             [
              1,
              "#f0f921"
             ]
            ],
            "type": "surface"
           }
          ],
          "table": [
           {
            "cells": {
             "fill": {
              "color": "#EBF0F8"
             },
             "line": {
              "color": "white"
             }
            },
            "header": {
             "fill": {
              "color": "#C8D4E3"
             },
             "line": {
              "color": "white"
             }
            },
            "type": "table"
           }
          ]
         },
         "layout": {
          "annotationdefaults": {
           "arrowcolor": "#2a3f5f",
           "arrowhead": 0,
           "arrowwidth": 1
          },
          "autotypenumbers": "strict",
          "coloraxis": {
           "colorbar": {
            "outlinewidth": 0,
            "ticks": ""
           }
          },
          "colorscale": {
           "diverging": [
            [
             0,
             "#8e0152"
            ],
            [
             0.1,
             "#c51b7d"
            ],
            [
             0.2,
             "#de77ae"
            ],
            [
             0.3,
             "#f1b6da"
            ],
            [
             0.4,
             "#fde0ef"
            ],
            [
             0.5,
             "#f7f7f7"
            ],
            [
             0.6,
             "#e6f5d0"
            ],
            [
             0.7,
             "#b8e186"
            ],
            [
             0.8,
             "#7fbc41"
            ],
            [
             0.9,
             "#4d9221"
            ],
            [
             1,
             "#276419"
            ]
           ],
           "sequential": [
            [
             0,
             "#0d0887"
            ],
            [
             0.1111111111111111,
             "#46039f"
            ],
            [
             0.2222222222222222,
             "#7201a8"
            ],
            [
             0.3333333333333333,
             "#9c179e"
            ],
            [
             0.4444444444444444,
             "#bd3786"
            ],
            [
             0.5555555555555556,
             "#d8576b"
            ],
            [
             0.6666666666666666,
             "#ed7953"
            ],
            [
             0.7777777777777778,
             "#fb9f3a"
            ],
            [
             0.8888888888888888,
             "#fdca26"
            ],
            [
             1,
             "#f0f921"
            ]
           ],
           "sequentialminus": [
            [
             0,
             "#0d0887"
            ],
            [
             0.1111111111111111,
             "#46039f"
            ],
            [
             0.2222222222222222,
             "#7201a8"
            ],
            [
             0.3333333333333333,
             "#9c179e"
            ],
            [
             0.4444444444444444,
             "#bd3786"
            ],
            [
             0.5555555555555556,
             "#d8576b"
            ],
            [
             0.6666666666666666,
             "#ed7953"
            ],
            [
             0.7777777777777778,
             "#fb9f3a"
            ],
            [
             0.8888888888888888,
             "#fdca26"
            ],
            [
             1,
             "#f0f921"
            ]
           ]
          },
          "colorway": [
           "#636efa",
           "#EF553B",
           "#00cc96",
           "#ab63fa",
           "#FFA15A",
           "#19d3f3",
           "#FF6692",
           "#B6E880",
           "#FF97FF",
           "#FECB52"
          ],
          "font": {
           "color": "#2a3f5f"
          },
          "geo": {
           "bgcolor": "white",
           "lakecolor": "white",
           "landcolor": "#E5ECF6",
           "showlakes": true,
           "showland": true,
           "subunitcolor": "white"
          },
          "hoverlabel": {
           "align": "left"
          },
          "hovermode": "closest",
          "mapbox": {
           "style": "light"
          },
          "paper_bgcolor": "white",
          "plot_bgcolor": "#E5ECF6",
          "polar": {
           "angularaxis": {
            "gridcolor": "white",
            "linecolor": "white",
            "ticks": ""
           },
           "bgcolor": "#E5ECF6",
           "radialaxis": {
            "gridcolor": "white",
            "linecolor": "white",
            "ticks": ""
           }
          },
          "scene": {
           "xaxis": {
            "backgroundcolor": "#E5ECF6",
            "gridcolor": "white",
            "gridwidth": 2,
            "linecolor": "white",
            "showbackground": true,
            "ticks": "",
            "zerolinecolor": "white"
           },
           "yaxis": {
            "backgroundcolor": "#E5ECF6",
            "gridcolor": "white",
            "gridwidth": 2,
            "linecolor": "white",
            "showbackground": true,
            "ticks": "",
            "zerolinecolor": "white"
           },
           "zaxis": {
            "backgroundcolor": "#E5ECF6",
            "gridcolor": "white",
            "gridwidth": 2,
            "linecolor": "white",
            "showbackground": true,
            "ticks": "",
            "zerolinecolor": "white"
           }
          },
          "shapedefaults": {
           "line": {
            "color": "#2a3f5f"
           }
          },
          "ternary": {
           "aaxis": {
            "gridcolor": "white",
            "linecolor": "white",
            "ticks": ""
           },
           "baxis": {
            "gridcolor": "white",
            "linecolor": "white",
            "ticks": ""
           },
           "bgcolor": "#E5ECF6",
           "caxis": {
            "gridcolor": "white",
            "linecolor": "white",
            "ticks": ""
           }
          },
          "title": {
           "x": 0.05
          },
          "xaxis": {
           "automargin": true,
           "gridcolor": "white",
           "linecolor": "white",
           "ticks": "",
           "title": {
            "standoff": 15
           },
           "zerolinecolor": "white",
           "zerolinewidth": 2
          },
          "yaxis": {
           "automargin": true,
           "gridcolor": "white",
           "linecolor": "white",
           "ticks": "",
           "title": {
            "standoff": 15
           },
           "zerolinecolor": "white",
           "zerolinewidth": 2
          }
         }
        },
        "title": {
         "text": "Human Capital Index (HCI) 2020 Across the World"
        }
       }
      }
     },
     "metadata": {},
     "output_type": "display_data"
    }
   ],
   "source": [
    "import plotly.graph_objects as go\n",
    "import pandas as pd\n",
    "\n",
    "# Human Capital Index Interactive Choropleth Map\n",
    "df_hci = pd.read_csv('/Users/mattheeter/DS4002/hci_code.csv')\n",
    "\n",
    "fig_hci = go.Figure(data=go.Choropleth(\n",
    "    locations = df_hci['CODE'],\n",
    "    z = df_hci['HUMAN CAPITAL INDEX 2020'],\n",
    "    text = df_hci['COUNTRY'],\n",
    "    colorscale = 'agsunset',\n",
    "    autocolorscale=False,\n",
    "    reversescale=True,\n",
    "    marker_line_color='darkgray',\n",
    "    marker_line_width=0.5,\n",
    "    colorbar_title = 'HCI Score (0-1)',\n",
    "))\n",
    "\n",
    "fig_hci.update_layout(\n",
    "    title_text='Human Capital Index (HCI) 2020 Across the World', \n",
    "    geo=dict(\n",
    "        showframe=False,\n",
    "        showcoastlines=False,\n",
    "        projection_type='equirectangular'\n",
    "    ),\n",
    ")\n",
    "\n",
    "fig_hci.show()"
   ]
  },
  {
   "attachments": {},
   "cell_type": "markdown",
   "metadata": {},
   "source": [
    "This interactive world map shows the HCI score (from 0 to 1) across all the countries in our dataset."
   ]
  },
  {
   "cell_type": "code",
   "execution_count": 60,
   "metadata": {},
   "outputs": [
    {
     "data": {
      "application/vnd.plotly.v1+json": {
       "config": {
        "plotlyServerURL": "https://plot.ly"
       },
       "data": [
        {
         "autocolorscale": false,
         "colorbar": {
          "tickprefix": "$",
          "title": {
           "text": "GDP Per Capita"
          }
         },
         "colorscale": [
          [
           0,
           "rgb(0,0,0)"
          ],
          [
           0.2,
           "rgb(30,0,100)"
          ],
          [
           0.4,
           "rgb(120,0,100)"
          ],
          [
           0.6,
           "rgb(160,90,0)"
          ],
          [
           0.8,
           "rgb(230,200,0)"
          ],
          [
           1,
           "rgb(255,250,220)"
          ]
         ],
         "locations": [
          "AFG",
          "ALB",
          "ALG",
          "AGO",
          "ATG",
          "ARG",
          "ARM",
          "AUS",
          "AUT",
          "AZE",
          "BHR",
          "BGD",
          "BLR",
          "BEL",
          "BEN",
          "BTN",
          "BIH",
          "BWA",
          "BRA",
          "VGB",
          "BGR",
          "BFA",
          "BDI",
          "KHM",
          "CMR",
          "CAN",
          "CAF",
          "TCD",
          "CHL",
          "CHN",
          "COL",
          "COM",
          "COD",
          "COG",
          "CRI",
          "HRV",
          "CYP",
          "DNK",
          "DMA",
          "DOM",
          "ECU",
          "EGY",
          "SLV",
          "EST",
          null,
          "ETH",
          "FJI",
          "FIN",
          "FRA",
          "GAB",
          "GMB",
          "GEO",
          "DEU",
          "GHA",
          "GRC",
          "GRD",
          "GTM",
          "GIN",
          "GUY",
          "HTI",
          "HND",
          "HKG",
          "HUN",
          "ISL",
          "IND",
          "IDN",
          "IRN",
          "IRQ",
          "IRL",
          "ISR",
          "ITA",
          "JAM",
          "JPN",
          "JOR",
          "KAZ",
          "KEN",
          "KIR",
          "KOR",
          "KSV",
          "KWT",
          "KGZ",
          "LAO",
          "LVA",
          "LBN",
          "LSO",
          "LBR",
          "LTU",
          "LUX",
          "MAC",
          "MDG",
          "MWI",
          "MYS",
          "MLI",
          "MLT",
          "MRT",
          "MUS",
          "MEX",
          "FSM",
          "MDA",
          "MNG",
          "MNE",
          "MAR",
          "MOZ",
          null,
          "NAM",
          null,
          "NPL",
          "NLD",
          "NZL",
          "NIC",
          "NGA",
          "NER",
          null,
          "NOR",
          "OMN",
          "PAK",
          "PLW",
          "PAN",
          "PNG",
          "PRY",
          "PER",
          "PHL",
          "POL",
          "PRT",
          "QAT",
          "ROU",
          "RUS",
          "RWA",
          "WSM",
          "SAU",
          "SEN",
          "SRB",
          "SYC",
          "SLE",
          "SGP",
          "SVK",
          "SVN",
          "SLB",
          "ZAF",
          null,
          null,
          null,
          "SDN",
          "SWE",
          "CHE",
          "TJK",
          "TZA",
          "THA",
          "TLS",
          "TGO",
          "TON",
          "TTO",
          "TUN",
          "TUV",
          "UGA",
          "UKR",
          "ARE",
          "GBR",
          "USA",
          "URY",
          "UZB",
          "VUT",
          "VNM",
          null
         ],
         "marker": {
          "line": {
           "color": "darkgray",
           "width": 0.5
          }
         },
         "reversescale": true,
         "text": [
          "Afghanistan",
          "Albania",
          "Algeria",
          "Angola",
          "Antigua and Barbuda",
          "Argentina",
          "Armenia",
          "Australia",
          "Austria",
          "Azerbaijan",
          "Bahrain",
          "Bangladesh",
          "Belarus",
          "Belgium",
          "Benin",
          "Bhutan",
          "Bosnia and Herzegovina",
          "Botswana",
          "Brazil",
          "Brunei Darussalam",
          "Bulgaria",
          "Burkina Faso",
          "Burundi",
          "Cambodia",
          "Cameroon",
          "Canada",
          "Central African Republic",
          "Chad",
          "Chile",
          "China",
          "Colombia",
          "Comoros",
          "Congo, Dem. Rep.",
          "Congo, Rep.",
          "Costa Rica",
          "Croatia",
          "Cyprus",
          "Denmark",
          "Dominica",
          "Dominican Republic",
          "Ecuador",
          "Egypt, Arab Rep.",
          "El Salvador",
          "Estonia",
          "Eswatini",
          "Ethiopia",
          "Fiji",
          "Finland",
          "France",
          "Gabon",
          "Gambia, The",
          "Georgia",
          "Germany",
          "Ghana",
          "Greece",
          "Grenada",
          "Guatemala",
          "Guinea",
          "Guyana",
          "Haiti",
          "Honduras",
          "Hong Kong SAR, China",
          "Hungary",
          "Iceland",
          "India",
          "Indonesia",
          "Iran, Islamic Rep.",
          "Iraq",
          "Ireland",
          "Israel",
          "Italy",
          "Jamaica",
          "Japan",
          "Jordan",
          "Kazakhstan",
          "Kenya",
          "Kiribati",
          "Korea, Rep.",
          "Kosovo",
          "Kuwait",
          "Kyrgyz Republic",
          "Lao PDR",
          "Latvia",
          "Lebanon",
          "Lesotho",
          "Liberia",
          "Lithuania",
          "Luxembourg",
          "Macao SAR, China",
          "Madagascar",
          "Malawi",
          "Malaysia",
          "Mali",
          "Malta",
          "Mauritania",
          "Mauritius",
          "Mexico",
          "Micronesia, Fed. Sts.",
          "Moldova",
          "Mongolia",
          "Montenegro",
          "Morocco",
          "Mozambique",
          "Myanmar",
          "Namibia",
          "Nauru",
          "Nepal",
          "Netherlands",
          "New Zealand",
          "Nicaragua",
          "Niger",
          "Nigeria",
          "North Macedonia",
          "Norway",
          "Oman",
          "Pakistan",
          "Palau",
          "Panama",
          "Papua New Guinea",
          "Paraguay",
          "Peru",
          "Philippines",
          "Poland",
          "Portugal",
          "Qatar",
          "Romania",
          "Russian Federation",
          "Rwanda",
          "Samoa",
          "Saudi Arabia",
          "Senegal",
          "Serbia",
          "Seychelles",
          "Sierra Leone",
          "Singapore",
          "Slovak Republic",
          "Slovenia",
          "Solomon Islands",
          "South Africa",
          "St. Kitts and Nevis",
          "St. Lucia",
          "St. Vincent and the Grenadines",
          "Sudan",
          "Sweden",
          "Switzerland",
          "Tajikistan",
          "Tanzania",
          "Thailand",
          "Timor-Leste",
          "Togo",
          "Tonga",
          "Trinidad and Tobago",
          "Tunisia",
          "Tuvalu",
          "Uganda",
          "Ukraine",
          "United Arab Emirates",
          "United Kingdom",
          "United States",
          "Uruguay",
          "Uzbekistan",
          "Vanuatu",
          "Vietnam",
          "West Bank and Gaza"
         ],
         "type": "choropleth",
         "z": [
          516.8665522,
          5332.160475,
          3337.252512,
          1603.993477,
          14787.63578,
          8496.424142,
          4505.867364,
          51720.37076,
          48809.22688,
          4229.910649,
          23501.91946,
          2233.305524,
          6542.797491,
          45517.79493,
          1237.949295,
          3009.924171,
          6012.062767,
          5863.203241,
          6794.489159,
          27179.41199,
          10129.81296,
          833.2443426,
          216.8267413,
          1577.911747,
          1539.130559,
          43258.26387,
          435.4692516,
          643.7722213,
          13094.45953,
          10408.66976,
          5307.215228,
          1519.586823,
          524.6666754,
          1838.448139,
          12132.87688,
          14198.75396,
          28036.18945,
          60915.4244,
          7003.469891,
          7167.919159,
          5645.19929,
          3398.801432,
          3903.395839,
          23595.24368,
          3372.895601,
          918.6525941,
          4864.117047,
          49170.75215,
          39055.28293,
          6680.08267,
          704.029916,
          4255.742993,
          46772.82535,
          2176.579459,
          17658.9473,
          8437.566732,
          4604.576679,
          1073.659337,
          6863.074346,
          1283.14083,
          2354.119614,
          46107.76528,
          16120.98905,
          59200.17794,
          1910.421473,
          3894.272202,
          2746.42045,
          4332.304125,
          85420.19086,
          44846.7916,
          31911.03579,
          4897.265897,
          39918.16756,
          4042.76935,
          9121.637138,
          1936.424589,
          1430.551574,
          31721.29891,
          4310.811183,
          24300.32944,
          1182.5217,
          2593.355097,
          18207.13964,
          5599.957523,
          989.8471707,
          597.5296919,
          20339.52127,
          117370.4969,
          37646.3162,
          462.4042237,
          628.699482,
          10160.78325,
          822.906144,
          28977.56557,
          1868.466574,
          9007.419102,
          8655.000682,
          3639.412699,
          4500.624464,
          4041.174196,
          7677.152226,
          3258.121338,
          449.9552098,
          1477.45287,
          4251.172766,
          9307.886768,
          1139.190277,
          52162.57012,
          41596.5055,
          1863.109257,
          564.8220018,
          2074.613928,
          5965.450232,
          67329.67779,
          16707.62301,
          1322.315036,
          14016.2475,
          12569.17154,
          2446.066306,
          5353.348065,
          6056.343903,
          3224.422551,
          15816.9894,
          22242.40642,
          52315.66008,
          13047.43206,
          10169.08691,
          774.6892594,
          4042.751224,
          19539.56581,
          1490.203137,
          7733.802869,
          12808.98747,
          493.4787775,
          60729.45035,
          19545.74282,
          25545.241,
          2222.465636,
          5741.643129,
          26959.67544,
          3893.841515,
          18566.09559,
          8458.162761,
          8335.256476,
          608.3325195,
          52837.90398,
          85656.32267,
          852.3336702,
          1042.09668,
          6990.935503,
          1660.30834,
          897.1945754,
          4606.064552,
          13871.79822,
          3497.68141,
          4973.774561,
          846.7672013,
          3751.740723,
          37629.17417,
          40318.55757,
          63530.63348,
          15619.54266,
          1749.655815,
          2877.520173
         ]
        }
       ],
       "layout": {
        "geo": {
         "projection": {
          "type": "equirectangular"
         },
         "showcoastlines": false,
         "showframe": false
        },
        "template": {
         "data": {
          "bar": [
           {
            "error_x": {
             "color": "#2a3f5f"
            },
            "error_y": {
             "color": "#2a3f5f"
            },
            "marker": {
             "line": {
              "color": "#E5ECF6",
              "width": 0.5
             },
             "pattern": {
              "fillmode": "overlay",
              "size": 10,
              "solidity": 0.2
             }
            },
            "type": "bar"
           }
          ],
          "barpolar": [
           {
            "marker": {
             "line": {
              "color": "#E5ECF6",
              "width": 0.5
             },
             "pattern": {
              "fillmode": "overlay",
              "size": 10,
              "solidity": 0.2
             }
            },
            "type": "barpolar"
           }
          ],
          "carpet": [
           {
            "aaxis": {
             "endlinecolor": "#2a3f5f",
             "gridcolor": "white",
             "linecolor": "white",
             "minorgridcolor": "white",
             "startlinecolor": "#2a3f5f"
            },
            "baxis": {
             "endlinecolor": "#2a3f5f",
             "gridcolor": "white",
             "linecolor": "white",
             "minorgridcolor": "white",
             "startlinecolor": "#2a3f5f"
            },
            "type": "carpet"
           }
          ],
          "choropleth": [
           {
            "colorbar": {
             "outlinewidth": 0,
             "ticks": ""
            },
            "type": "choropleth"
           }
          ],
          "contour": [
           {
            "colorbar": {
             "outlinewidth": 0,
             "ticks": ""
            },
            "colorscale": [
             [
              0,
              "#0d0887"
             ],
             [
              0.1111111111111111,
              "#46039f"
             ],
             [
              0.2222222222222222,
              "#7201a8"
             ],
             [
              0.3333333333333333,
              "#9c179e"
             ],
             [
              0.4444444444444444,
              "#bd3786"
             ],
             [
              0.5555555555555556,
              "#d8576b"
             ],
             [
              0.6666666666666666,
              "#ed7953"
             ],
             [
              0.7777777777777778,
              "#fb9f3a"
             ],
             [
              0.8888888888888888,
              "#fdca26"
             ],
             [
              1,
              "#f0f921"
             ]
            ],
            "type": "contour"
           }
          ],
          "contourcarpet": [
           {
            "colorbar": {
             "outlinewidth": 0,
             "ticks": ""
            },
            "type": "contourcarpet"
           }
          ],
          "heatmap": [
           {
            "colorbar": {
             "outlinewidth": 0,
             "ticks": ""
            },
            "colorscale": [
             [
              0,
              "#0d0887"
             ],
             [
              0.1111111111111111,
              "#46039f"
             ],
             [
              0.2222222222222222,
              "#7201a8"
             ],
             [
              0.3333333333333333,
              "#9c179e"
             ],
             [
              0.4444444444444444,
              "#bd3786"
             ],
             [
              0.5555555555555556,
              "#d8576b"
             ],
             [
              0.6666666666666666,
              "#ed7953"
             ],
             [
              0.7777777777777778,
              "#fb9f3a"
             ],
             [
              0.8888888888888888,
              "#fdca26"
             ],
             [
              1,
              "#f0f921"
             ]
            ],
            "type": "heatmap"
           }
          ],
          "heatmapgl": [
           {
            "colorbar": {
             "outlinewidth": 0,
             "ticks": ""
            },
            "colorscale": [
             [
              0,
              "#0d0887"
             ],
             [
              0.1111111111111111,
              "#46039f"
             ],
             [
              0.2222222222222222,
              "#7201a8"
             ],
             [
              0.3333333333333333,
              "#9c179e"
             ],
             [
              0.4444444444444444,
              "#bd3786"
             ],
             [
              0.5555555555555556,
              "#d8576b"
             ],
             [
              0.6666666666666666,
              "#ed7953"
             ],
             [
              0.7777777777777778,
              "#fb9f3a"
             ],
             [
              0.8888888888888888,
              "#fdca26"
             ],
             [
              1,
              "#f0f921"
             ]
            ],
            "type": "heatmapgl"
           }
          ],
          "histogram": [
           {
            "marker": {
             "pattern": {
              "fillmode": "overlay",
              "size": 10,
              "solidity": 0.2
             }
            },
            "type": "histogram"
           }
          ],
          "histogram2d": [
           {
            "colorbar": {
             "outlinewidth": 0,
             "ticks": ""
            },
            "colorscale": [
             [
              0,
              "#0d0887"
             ],
             [
              0.1111111111111111,
              "#46039f"
             ],
             [
              0.2222222222222222,
              "#7201a8"
             ],
             [
              0.3333333333333333,
              "#9c179e"
             ],
             [
              0.4444444444444444,
              "#bd3786"
             ],
             [
              0.5555555555555556,
              "#d8576b"
             ],
             [
              0.6666666666666666,
              "#ed7953"
             ],
             [
              0.7777777777777778,
              "#fb9f3a"
             ],
             [
              0.8888888888888888,
              "#fdca26"
             ],
             [
              1,
              "#f0f921"
             ]
            ],
            "type": "histogram2d"
           }
          ],
          "histogram2dcontour": [
           {
            "colorbar": {
             "outlinewidth": 0,
             "ticks": ""
            },
            "colorscale": [
             [
              0,
              "#0d0887"
             ],
             [
              0.1111111111111111,
              "#46039f"
             ],
             [
              0.2222222222222222,
              "#7201a8"
             ],
             [
              0.3333333333333333,
              "#9c179e"
             ],
             [
              0.4444444444444444,
              "#bd3786"
             ],
             [
              0.5555555555555556,
              "#d8576b"
             ],
             [
              0.6666666666666666,
              "#ed7953"
             ],
             [
              0.7777777777777778,
              "#fb9f3a"
             ],
             [
              0.8888888888888888,
              "#fdca26"
             ],
             [
              1,
              "#f0f921"
             ]
            ],
            "type": "histogram2dcontour"
           }
          ],
          "mesh3d": [
           {
            "colorbar": {
             "outlinewidth": 0,
             "ticks": ""
            },
            "type": "mesh3d"
           }
          ],
          "parcoords": [
           {
            "line": {
             "colorbar": {
              "outlinewidth": 0,
              "ticks": ""
             }
            },
            "type": "parcoords"
           }
          ],
          "pie": [
           {
            "automargin": true,
            "type": "pie"
           }
          ],
          "scatter": [
           {
            "fillpattern": {
             "fillmode": "overlay",
             "size": 10,
             "solidity": 0.2
            },
            "type": "scatter"
           }
          ],
          "scatter3d": [
           {
            "line": {
             "colorbar": {
              "outlinewidth": 0,
              "ticks": ""
             }
            },
            "marker": {
             "colorbar": {
              "outlinewidth": 0,
              "ticks": ""
             }
            },
            "type": "scatter3d"
           }
          ],
          "scattercarpet": [
           {
            "marker": {
             "colorbar": {
              "outlinewidth": 0,
              "ticks": ""
             }
            },
            "type": "scattercarpet"
           }
          ],
          "scattergeo": [
           {
            "marker": {
             "colorbar": {
              "outlinewidth": 0,
              "ticks": ""
             }
            },
            "type": "scattergeo"
           }
          ],
          "scattergl": [
           {
            "marker": {
             "colorbar": {
              "outlinewidth": 0,
              "ticks": ""
             }
            },
            "type": "scattergl"
           }
          ],
          "scattermapbox": [
           {
            "marker": {
             "colorbar": {
              "outlinewidth": 0,
              "ticks": ""
             }
            },
            "type": "scattermapbox"
           }
          ],
          "scatterpolar": [
           {
            "marker": {
             "colorbar": {
              "outlinewidth": 0,
              "ticks": ""
             }
            },
            "type": "scatterpolar"
           }
          ],
          "scatterpolargl": [
           {
            "marker": {
             "colorbar": {
              "outlinewidth": 0,
              "ticks": ""
             }
            },
            "type": "scatterpolargl"
           }
          ],
          "scatterternary": [
           {
            "marker": {
             "colorbar": {
              "outlinewidth": 0,
              "ticks": ""
             }
            },
            "type": "scatterternary"
           }
          ],
          "surface": [
           {
            "colorbar": {
             "outlinewidth": 0,
             "ticks": ""
            },
            "colorscale": [
             [
              0,
              "#0d0887"
             ],
             [
              0.1111111111111111,
              "#46039f"
             ],
             [
              0.2222222222222222,
              "#7201a8"
             ],
             [
              0.3333333333333333,
              "#9c179e"
             ],
             [
              0.4444444444444444,
              "#bd3786"
             ],
             [
              0.5555555555555556,
              "#d8576b"
             ],
             [
              0.6666666666666666,
              "#ed7953"
             ],
             [
              0.7777777777777778,
              "#fb9f3a"
             ],
             [
              0.8888888888888888,
              "#fdca26"
             ],
             [
              1,
              "#f0f921"
             ]
            ],
            "type": "surface"
           }
          ],
          "table": [
           {
            "cells": {
             "fill": {
              "color": "#EBF0F8"
             },
             "line": {
              "color": "white"
             }
            },
            "header": {
             "fill": {
              "color": "#C8D4E3"
             },
             "line": {
              "color": "white"
             }
            },
            "type": "table"
           }
          ]
         },
         "layout": {
          "annotationdefaults": {
           "arrowcolor": "#2a3f5f",
           "arrowhead": 0,
           "arrowwidth": 1
          },
          "autotypenumbers": "strict",
          "coloraxis": {
           "colorbar": {
            "outlinewidth": 0,
            "ticks": ""
           }
          },
          "colorscale": {
           "diverging": [
            [
             0,
             "#8e0152"
            ],
            [
             0.1,
             "#c51b7d"
            ],
            [
             0.2,
             "#de77ae"
            ],
            [
             0.3,
             "#f1b6da"
            ],
            [
             0.4,
             "#fde0ef"
            ],
            [
             0.5,
             "#f7f7f7"
            ],
            [
             0.6,
             "#e6f5d0"
            ],
            [
             0.7,
             "#b8e186"
            ],
            [
             0.8,
             "#7fbc41"
            ],
            [
             0.9,
             "#4d9221"
            ],
            [
             1,
             "#276419"
            ]
           ],
           "sequential": [
            [
             0,
             "#0d0887"
            ],
            [
             0.1111111111111111,
             "#46039f"
            ],
            [
             0.2222222222222222,
             "#7201a8"
            ],
            [
             0.3333333333333333,
             "#9c179e"
            ],
            [
             0.4444444444444444,
             "#bd3786"
            ],
            [
             0.5555555555555556,
             "#d8576b"
            ],
            [
             0.6666666666666666,
             "#ed7953"
            ],
            [
             0.7777777777777778,
             "#fb9f3a"
            ],
            [
             0.8888888888888888,
             "#fdca26"
            ],
            [
             1,
             "#f0f921"
            ]
           ],
           "sequentialminus": [
            [
             0,
             "#0d0887"
            ],
            [
             0.1111111111111111,
             "#46039f"
            ],
            [
             0.2222222222222222,
             "#7201a8"
            ],
            [
             0.3333333333333333,
             "#9c179e"
            ],
            [
             0.4444444444444444,
             "#bd3786"
            ],
            [
             0.5555555555555556,
             "#d8576b"
            ],
            [
             0.6666666666666666,
             "#ed7953"
            ],
            [
             0.7777777777777778,
             "#fb9f3a"
            ],
            [
             0.8888888888888888,
             "#fdca26"
            ],
            [
             1,
             "#f0f921"
            ]
           ]
          },
          "colorway": [
           "#636efa",
           "#EF553B",
           "#00cc96",
           "#ab63fa",
           "#FFA15A",
           "#19d3f3",
           "#FF6692",
           "#B6E880",
           "#FF97FF",
           "#FECB52"
          ],
          "font": {
           "color": "#2a3f5f"
          },
          "geo": {
           "bgcolor": "white",
           "lakecolor": "white",
           "landcolor": "#E5ECF6",
           "showlakes": true,
           "showland": true,
           "subunitcolor": "white"
          },
          "hoverlabel": {
           "align": "left"
          },
          "hovermode": "closest",
          "mapbox": {
           "style": "light"
          },
          "paper_bgcolor": "white",
          "plot_bgcolor": "#E5ECF6",
          "polar": {
           "angularaxis": {
            "gridcolor": "white",
            "linecolor": "white",
            "ticks": ""
           },
           "bgcolor": "#E5ECF6",
           "radialaxis": {
            "gridcolor": "white",
            "linecolor": "white",
            "ticks": ""
           }
          },
          "scene": {
           "xaxis": {
            "backgroundcolor": "#E5ECF6",
            "gridcolor": "white",
            "gridwidth": 2,
            "linecolor": "white",
            "showbackground": true,
            "ticks": "",
            "zerolinecolor": "white"
           },
           "yaxis": {
            "backgroundcolor": "#E5ECF6",
            "gridcolor": "white",
            "gridwidth": 2,
            "linecolor": "white",
            "showbackground": true,
            "ticks": "",
            "zerolinecolor": "white"
           },
           "zaxis": {
            "backgroundcolor": "#E5ECF6",
            "gridcolor": "white",
            "gridwidth": 2,
            "linecolor": "white",
            "showbackground": true,
            "ticks": "",
            "zerolinecolor": "white"
           }
          },
          "shapedefaults": {
           "line": {
            "color": "#2a3f5f"
           }
          },
          "ternary": {
           "aaxis": {
            "gridcolor": "white",
            "linecolor": "white",
            "ticks": ""
           },
           "baxis": {
            "gridcolor": "white",
            "linecolor": "white",
            "ticks": ""
           },
           "bgcolor": "#E5ECF6",
           "caxis": {
            "gridcolor": "white",
            "linecolor": "white",
            "ticks": ""
           }
          },
          "title": {
           "x": 0.05
          },
          "xaxis": {
           "automargin": true,
           "gridcolor": "white",
           "linecolor": "white",
           "ticks": "",
           "title": {
            "standoff": 15
           },
           "zerolinecolor": "white",
           "zerolinewidth": 2
          },
          "yaxis": {
           "automargin": true,
           "gridcolor": "white",
           "linecolor": "white",
           "ticks": "",
           "title": {
            "standoff": 15
           },
           "zerolinecolor": "white",
           "zerolinewidth": 2
          }
         }
        },
        "title": {
         "text": "Gross Domestic Product (GDP) Per Capita 2020 Across the World"
        }
       }
      }
     },
     "metadata": {},
     "output_type": "display_data"
    }
   ],
   "source": [
    "import plotly.graph_objects as go\n",
    "import pandas as pd\n",
    "\n",
    "df_gdp = pd.read_csv('/Users/mattheeter/DS4002/gdp_code.csv')\n",
    "\n",
    "fig_gdp = go.Figure(data=go.Choropleth(\n",
    "    locations = df_gdp['CODE'],\n",
    "    z = df_gdp['GDP PER CAPITA 2020'],\n",
    "    text = df_gdp['COUNTRY'],\n",
    "    colorscale = 'electric',\n",
    "    autocolorscale=False,\n",
    "    reversescale=True,\n",
    "    marker_line_color='darkgray',\n",
    "    marker_line_width=0.5,\n",
    "    colorbar_tickprefix = '$',\n",
    "    colorbar_title = 'GDP Per Capita',\n",
    "))\n",
    "\n",
    "fig_gdp.update_layout(\n",
    "    title_text='Gross Domestic Product (GDP) Per Capita 2020 Across the World', \n",
    "    geo=dict(\n",
    "        showframe=False,\n",
    "        showcoastlines=False,\n",
    "        projection_type='equirectangular'\n",
    "    ),\n",
    ")\n",
    "\n",
    "fig_gdp.show()"
   ]
  },
  {
   "attachments": {},
   "cell_type": "markdown",
   "metadata": {},
   "source": [
    "This interactive world map shows the GDP per Capita (in US $) across all the countries in our dataset."
   ]
  },
  {
   "cell_type": "code",
   "execution_count": 61,
   "metadata": {},
   "outputs": [
    {
     "data": {
      "application/vnd.plotly.v1+json": {
       "config": {
        "plotlyServerURL": "https://plot.ly"
       },
       "data": [
        {
         "coloraxis": "coloraxis",
         "geo": "geo",
         "hovertemplate": "<b>%{hovertext}</b><br><br>CODE=%{location}<br>GDP per capita=%{z}<extra></extra>",
         "hovertext": [
          "Afghanistan",
          "Albania",
          "Algeria",
          "Angola",
          "Antigua and Barbuda",
          "Argentina",
          "Armenia",
          "Australia",
          "Austria",
          "Azerbaijan",
          "Bahrain",
          "Bangladesh",
          "Belarus",
          "Belgium",
          "Benin",
          "Bhutan",
          "Bosnia and Herzegovina",
          "Botswana",
          "Brazil",
          "Brunei Darussalam",
          "Bulgaria",
          "Burkina Faso",
          "Burundi",
          "Cambodia",
          "Cameroon",
          "Canada",
          "Central African Republic",
          "Chad",
          "Chile",
          "China",
          "Colombia",
          "Comoros",
          "Congo, Dem. Rep.",
          "Congo, Rep.",
          "Costa Rica",
          "Croatia",
          "Cyprus",
          "Denmark",
          "Dominica",
          "Dominican Republic",
          "Ecuador",
          "Egypt, Arab Rep.",
          "El Salvador",
          "Estonia",
          "Eswatini",
          "Ethiopia",
          "Fiji",
          "Finland",
          "France",
          "Gabon",
          "Gambia, The",
          "Georgia",
          "Germany",
          "Ghana",
          "Greece",
          "Grenada",
          "Guatemala",
          "Guinea",
          "Guyana",
          "Haiti",
          "Honduras",
          "Hong Kong SAR, China",
          "Hungary",
          "Iceland",
          "India",
          "Indonesia",
          "Iran, Islamic Rep.",
          "Iraq",
          "Ireland",
          "Israel",
          "Italy",
          "Jamaica",
          "Japan",
          "Jordan",
          "Kazakhstan",
          "Kenya",
          "Kiribati",
          "Korea, Rep.",
          "Kosovo",
          "Kuwait",
          "Kyrgyz Republic",
          "Lao PDR",
          "Latvia",
          "Lebanon",
          "Lesotho",
          "Liberia",
          "Lithuania",
          "Luxembourg",
          "Macao SAR, China",
          "Madagascar",
          "Malawi",
          "Malaysia",
          "Mali",
          "Malta",
          "Mauritania",
          "Mauritius",
          "Mexico",
          "Micronesia, Fed. Sts.",
          "Moldova",
          "Mongolia",
          "Montenegro",
          "Morocco",
          "Mozambique",
          "Myanmar",
          "Namibia",
          "Nauru",
          "Nepal",
          "Netherlands",
          "New Zealand",
          "Nicaragua",
          "Niger",
          "Nigeria",
          "North Macedonia",
          "Norway",
          "Oman",
          "Pakistan",
          "Palau",
          "Panama",
          "Papua New Guinea",
          "Paraguay",
          "Peru",
          "Philippines",
          "Poland",
          "Portugal",
          "Qatar",
          "Romania",
          "Russian Federation",
          "Rwanda",
          "Samoa",
          "Saudi Arabia",
          "Senegal",
          "Serbia",
          "Seychelles",
          "Sierra Leone",
          "Singapore",
          "Slovak Republic",
          "Slovenia",
          "Solomon Islands",
          "South Africa",
          "St. Kitts and Nevis",
          "St. Lucia",
          "St. Vincent and the Grenadines",
          "Sudan",
          "Sweden",
          "Switzerland",
          "Tajikistan",
          "Tanzania",
          "Thailand",
          "Timor-Leste",
          "Togo",
          "Tonga",
          "Trinidad and Tobago",
          "Tunisia",
          "Tuvalu",
          "Uganda",
          "Ukraine",
          "United Arab Emirates",
          "United Kingdom",
          "United States",
          "Uruguay",
          "Uzbekistan",
          "Vanuatu",
          "Vietnam",
          "West Bank and Gaza"
         ],
         "locationmode": "ISO-3",
         "locations": [
          "AFG",
          "ALB",
          "ALG",
          "AGO",
          "ATG",
          "ARG",
          "ARM",
          "AUS",
          "AUT",
          "AZE",
          "BHR",
          "BGD",
          "BLR",
          "BEL",
          "BEN",
          "BTN",
          "BIH",
          "BWA",
          "BRA",
          "VGB",
          "BGR",
          "BFA",
          "BDI",
          "KHM",
          "CMR",
          "CAN",
          "CAF",
          "TCD",
          "CHL",
          "CHN",
          "COL",
          "COM",
          "COD",
          "COG",
          "CRI",
          "HRV",
          "CYP",
          "DNK",
          "DMA",
          "DOM",
          "ECU",
          "EGY",
          "SLV",
          "EST",
          null,
          "ETH",
          "FJI",
          "FIN",
          "FRA",
          "GAB",
          "GMB",
          "GEO",
          "DEU",
          "GHA",
          "GRC",
          "GRD",
          "GTM",
          "GIN",
          "GUY",
          "HTI",
          "HND",
          "HKG",
          "HUN",
          "ISL",
          "IND",
          "IDN",
          "IRN",
          "IRQ",
          "IRL",
          "ISR",
          "ITA",
          "JAM",
          "JPN",
          "JOR",
          "KAZ",
          "KEN",
          "KIR",
          "KOR",
          "KSV",
          "KWT",
          "KGZ",
          "LAO",
          "LVA",
          "LBN",
          "LSO",
          "LBR",
          "LTU",
          "LUX",
          "MAC",
          "MDG",
          "MWI",
          "MYS",
          "MLI",
          "MLT",
          "MRT",
          "MUS",
          "MEX",
          "FSM",
          "MDA",
          "MNG",
          "MNE",
          "MAR",
          "MOZ",
          null,
          "NAM",
          null,
          "NPL",
          "NLD",
          "NZL",
          "NIC",
          "NGA",
          "NER",
          null,
          "NOR",
          "OMN",
          "PAK",
          "PLW",
          "PAN",
          "PNG",
          "PRY",
          "PER",
          "PHL",
          "POL",
          "PRT",
          "QAT",
          "ROU",
          "RUS",
          "RWA",
          "WSM",
          "SAU",
          "SEN",
          "SRB",
          "SYC",
          "SLE",
          "SGP",
          "SVK",
          "SVN",
          "SLB",
          "ZAF",
          null,
          null,
          null,
          "SDN",
          "SWE",
          "CHE",
          "TJK",
          "TZA",
          "THA",
          "TLS",
          "TGO",
          "TON",
          "TTO",
          "TUN",
          "TUV",
          "UGA",
          "UKR",
          "ARE",
          "GBR",
          "USA",
          "URY",
          "UZB",
          "VUT",
          "VNM",
          null
         ],
         "name": "",
         "type": "choropleth",
         "z": [
          516.8665522,
          5332.160475,
          3337.252512,
          1603.993477,
          14787.63578,
          8496.424142,
          4505.867364,
          51720.37076,
          48809.22688,
          4229.910649,
          23501.91946,
          2233.305524,
          6542.797491,
          45517.79493,
          1237.949295,
          3009.924171,
          6012.062767,
          5863.203241,
          6794.489159,
          27179.41199,
          10129.81296,
          833.2443426,
          216.8267413,
          1577.911747,
          1539.130559,
          43258.26387,
          435.4692516,
          643.7722213,
          13094.45953,
          10408.66976,
          5307.215228,
          1519.586823,
          524.6666754,
          1838.448139,
          12132.87688,
          14198.75396,
          28036.18945,
          60915.4244,
          7003.469891,
          7167.919159,
          5645.19929,
          3398.801432,
          3903.395839,
          23595.24368,
          3372.895601,
          918.6525941,
          4864.117047,
          49170.75215,
          39055.28293,
          6680.08267,
          704.029916,
          4255.742993,
          46772.82535,
          2176.579459,
          17658.9473,
          8437.566732,
          4604.576679,
          1073.659337,
          6863.074346,
          1283.14083,
          2354.119614,
          46107.76528,
          16120.98905,
          59200.17794,
          1910.421473,
          3894.272202,
          2746.42045,
          4332.304125,
          85420.19086,
          44846.7916,
          31911.03579,
          4897.265897,
          39918.16756,
          4042.76935,
          9121.637138,
          1936.424589,
          1430.551574,
          31721.29891,
          4310.811183,
          24300.32944,
          1182.5217,
          2593.355097,
          18207.13964,
          5599.957523,
          989.8471707,
          597.5296919,
          20339.52127,
          117370.4969,
          37646.3162,
          462.4042237,
          628.699482,
          10160.78325,
          822.906144,
          28977.56557,
          1868.466574,
          9007.419102,
          8655.000682,
          3639.412699,
          4500.624464,
          4041.174196,
          7677.152226,
          3258.121338,
          449.9552098,
          1477.45287,
          4251.172766,
          9307.886768,
          1139.190277,
          52162.57012,
          41596.5055,
          1863.109257,
          564.8220018,
          2074.613928,
          5965.450232,
          67329.67779,
          16707.62301,
          1322.315036,
          14016.2475,
          12569.17154,
          2446.066306,
          5353.348065,
          6056.343903,
          3224.422551,
          15816.9894,
          22242.40642,
          52315.66008,
          13047.43206,
          10169.08691,
          774.6892594,
          4042.751224,
          19539.56581,
          1490.203137,
          7733.802869,
          12808.98747,
          493.4787775,
          60729.45035,
          19545.74282,
          25545.241,
          2222.465636,
          5741.643129,
          26959.67544,
          3893.841515,
          18566.09559,
          8458.162761,
          8335.256476,
          608.3325195,
          52837.90398,
          85656.32267,
          852.3336702,
          1042.09668,
          6990.935503,
          1660.30834,
          897.1945754,
          4606.064552,
          13871.79822,
          3497.68141,
          4973.774561,
          846.7672013,
          3751.740723,
          37629.17417,
          40318.55757,
          63530.63348,
          15619.54266,
          1749.655815,
          2877.520173
         ]
        }
       ],
       "layout": {
        "coloraxis": {
         "colorbar": {
          "title": {
           "text": "GDP per capita"
          }
         },
         "colorscale": [
          [
           0,
           "rgb(0,0,0)"
          ],
          [
           0.2,
           "rgb(30,0,100)"
          ],
          [
           0.4,
           "rgb(120,0,100)"
          ],
          [
           0.6,
           "rgb(160,90,0)"
          ],
          [
           0.8,
           "rgb(230,200,0)"
          ],
          [
           1,
           "rgb(255,250,220)"
          ]
         ]
        },
        "geo": {
         "center": {},
         "domain": {
          "x": [
           0,
           1
          ],
          "y": [
           0,
           1
          ]
         }
        },
        "height": 600,
        "legend": {
         "tracegroupgap": 0
        },
        "template": {
         "data": {
          "bar": [
           {
            "error_x": {
             "color": "#2a3f5f"
            },
            "error_y": {
             "color": "#2a3f5f"
            },
            "marker": {
             "line": {
              "color": "#E5ECF6",
              "width": 0.5
             },
             "pattern": {
              "fillmode": "overlay",
              "size": 10,
              "solidity": 0.2
             }
            },
            "type": "bar"
           }
          ],
          "barpolar": [
           {
            "marker": {
             "line": {
              "color": "#E5ECF6",
              "width": 0.5
             },
             "pattern": {
              "fillmode": "overlay",
              "size": 10,
              "solidity": 0.2
             }
            },
            "type": "barpolar"
           }
          ],
          "carpet": [
           {
            "aaxis": {
             "endlinecolor": "#2a3f5f",
             "gridcolor": "white",
             "linecolor": "white",
             "minorgridcolor": "white",
             "startlinecolor": "#2a3f5f"
            },
            "baxis": {
             "endlinecolor": "#2a3f5f",
             "gridcolor": "white",
             "linecolor": "white",
             "minorgridcolor": "white",
             "startlinecolor": "#2a3f5f"
            },
            "type": "carpet"
           }
          ],
          "choropleth": [
           {
            "colorbar": {
             "outlinewidth": 0,
             "ticks": ""
            },
            "type": "choropleth"
           }
          ],
          "contour": [
           {
            "colorbar": {
             "outlinewidth": 0,
             "ticks": ""
            },
            "colorscale": [
             [
              0,
              "#0d0887"
             ],
             [
              0.1111111111111111,
              "#46039f"
             ],
             [
              0.2222222222222222,
              "#7201a8"
             ],
             [
              0.3333333333333333,
              "#9c179e"
             ],
             [
              0.4444444444444444,
              "#bd3786"
             ],
             [
              0.5555555555555556,
              "#d8576b"
             ],
             [
              0.6666666666666666,
              "#ed7953"
             ],
             [
              0.7777777777777778,
              "#fb9f3a"
             ],
             [
              0.8888888888888888,
              "#fdca26"
             ],
             [
              1,
              "#f0f921"
             ]
            ],
            "type": "contour"
           }
          ],
          "contourcarpet": [
           {
            "colorbar": {
             "outlinewidth": 0,
             "ticks": ""
            },
            "type": "contourcarpet"
           }
          ],
          "heatmap": [
           {
            "colorbar": {
             "outlinewidth": 0,
             "ticks": ""
            },
            "colorscale": [
             [
              0,
              "#0d0887"
             ],
             [
              0.1111111111111111,
              "#46039f"
             ],
             [
              0.2222222222222222,
              "#7201a8"
             ],
             [
              0.3333333333333333,
              "#9c179e"
             ],
             [
              0.4444444444444444,
              "#bd3786"
             ],
             [
              0.5555555555555556,
              "#d8576b"
             ],
             [
              0.6666666666666666,
              "#ed7953"
             ],
             [
              0.7777777777777778,
              "#fb9f3a"
             ],
             [
              0.8888888888888888,
              "#fdca26"
             ],
             [
              1,
              "#f0f921"
             ]
            ],
            "type": "heatmap"
           }
          ],
          "heatmapgl": [
           {
            "colorbar": {
             "outlinewidth": 0,
             "ticks": ""
            },
            "colorscale": [
             [
              0,
              "#0d0887"
             ],
             [
              0.1111111111111111,
              "#46039f"
             ],
             [
              0.2222222222222222,
              "#7201a8"
             ],
             [
              0.3333333333333333,
              "#9c179e"
             ],
             [
              0.4444444444444444,
              "#bd3786"
             ],
             [
              0.5555555555555556,
              "#d8576b"
             ],
             [
              0.6666666666666666,
              "#ed7953"
             ],
             [
              0.7777777777777778,
              "#fb9f3a"
             ],
             [
              0.8888888888888888,
              "#fdca26"
             ],
             [
              1,
              "#f0f921"
             ]
            ],
            "type": "heatmapgl"
           }
          ],
          "histogram": [
           {
            "marker": {
             "pattern": {
              "fillmode": "overlay",
              "size": 10,
              "solidity": 0.2
             }
            },
            "type": "histogram"
           }
          ],
          "histogram2d": [
           {
            "colorbar": {
             "outlinewidth": 0,
             "ticks": ""
            },
            "colorscale": [
             [
              0,
              "#0d0887"
             ],
             [
              0.1111111111111111,
              "#46039f"
             ],
             [
              0.2222222222222222,
              "#7201a8"
             ],
             [
              0.3333333333333333,
              "#9c179e"
             ],
             [
              0.4444444444444444,
              "#bd3786"
             ],
             [
              0.5555555555555556,
              "#d8576b"
             ],
             [
              0.6666666666666666,
              "#ed7953"
             ],
             [
              0.7777777777777778,
              "#fb9f3a"
             ],
             [
              0.8888888888888888,
              "#fdca26"
             ],
             [
              1,
              "#f0f921"
             ]
            ],
            "type": "histogram2d"
           }
          ],
          "histogram2dcontour": [
           {
            "colorbar": {
             "outlinewidth": 0,
             "ticks": ""
            },
            "colorscale": [
             [
              0,
              "#0d0887"
             ],
             [
              0.1111111111111111,
              "#46039f"
             ],
             [
              0.2222222222222222,
              "#7201a8"
             ],
             [
              0.3333333333333333,
              "#9c179e"
             ],
             [
              0.4444444444444444,
              "#bd3786"
             ],
             [
              0.5555555555555556,
              "#d8576b"
             ],
             [
              0.6666666666666666,
              "#ed7953"
             ],
             [
              0.7777777777777778,
              "#fb9f3a"
             ],
             [
              0.8888888888888888,
              "#fdca26"
             ],
             [
              1,
              "#f0f921"
             ]
            ],
            "type": "histogram2dcontour"
           }
          ],
          "mesh3d": [
           {
            "colorbar": {
             "outlinewidth": 0,
             "ticks": ""
            },
            "type": "mesh3d"
           }
          ],
          "parcoords": [
           {
            "line": {
             "colorbar": {
              "outlinewidth": 0,
              "ticks": ""
             }
            },
            "type": "parcoords"
           }
          ],
          "pie": [
           {
            "automargin": true,
            "type": "pie"
           }
          ],
          "scatter": [
           {
            "fillpattern": {
             "fillmode": "overlay",
             "size": 10,
             "solidity": 0.2
            },
            "type": "scatter"
           }
          ],
          "scatter3d": [
           {
            "line": {
             "colorbar": {
              "outlinewidth": 0,
              "ticks": ""
             }
            },
            "marker": {
             "colorbar": {
              "outlinewidth": 0,
              "ticks": ""
             }
            },
            "type": "scatter3d"
           }
          ],
          "scattercarpet": [
           {
            "marker": {
             "colorbar": {
              "outlinewidth": 0,
              "ticks": ""
             }
            },
            "type": "scattercarpet"
           }
          ],
          "scattergeo": [
           {
            "marker": {
             "colorbar": {
              "outlinewidth": 0,
              "ticks": ""
             }
            },
            "type": "scattergeo"
           }
          ],
          "scattergl": [
           {
            "marker": {
             "colorbar": {
              "outlinewidth": 0,
              "ticks": ""
             }
            },
            "type": "scattergl"
           }
          ],
          "scattermapbox": [
           {
            "marker": {
             "colorbar": {
              "outlinewidth": 0,
              "ticks": ""
             }
            },
            "type": "scattermapbox"
           }
          ],
          "scatterpolar": [
           {
            "marker": {
             "colorbar": {
              "outlinewidth": 0,
              "ticks": ""
             }
            },
            "type": "scatterpolar"
           }
          ],
          "scatterpolargl": [
           {
            "marker": {
             "colorbar": {
              "outlinewidth": 0,
              "ticks": ""
             }
            },
            "type": "scatterpolargl"
           }
          ],
          "scatterternary": [
           {
            "marker": {
             "colorbar": {
              "outlinewidth": 0,
              "ticks": ""
             }
            },
            "type": "scatterternary"
           }
          ],
          "surface": [
           {
            "colorbar": {
             "outlinewidth": 0,
             "ticks": ""
            },
            "colorscale": [
             [
              0,
              "#0d0887"
             ],
             [
              0.1111111111111111,
              "#46039f"
             ],
             [
              0.2222222222222222,
              "#7201a8"
             ],
             [
              0.3333333333333333,
              "#9c179e"
             ],
             [
              0.4444444444444444,
              "#bd3786"
             ],
             [
              0.5555555555555556,
              "#d8576b"
             ],
             [
              0.6666666666666666,
              "#ed7953"
             ],
             [
              0.7777777777777778,
              "#fb9f3a"
             ],
             [
              0.8888888888888888,
              "#fdca26"
             ],
             [
              1,
              "#f0f921"
             ]
            ],
            "type": "surface"
           }
          ],
          "table": [
           {
            "cells": {
             "fill": {
              "color": "#EBF0F8"
             },
             "line": {
              "color": "white"
             }
            },
            "header": {
             "fill": {
              "color": "#C8D4E3"
             },
             "line": {
              "color": "white"
             }
            },
            "type": "table"
           }
          ]
         },
         "layout": {
          "annotationdefaults": {
           "arrowcolor": "#2a3f5f",
           "arrowhead": 0,
           "arrowwidth": 1
          },
          "autotypenumbers": "strict",
          "coloraxis": {
           "colorbar": {
            "outlinewidth": 0,
            "ticks": ""
           }
          },
          "colorscale": {
           "diverging": [
            [
             0,
             "#8e0152"
            ],
            [
             0.1,
             "#c51b7d"
            ],
            [
             0.2,
             "#de77ae"
            ],
            [
             0.3,
             "#f1b6da"
            ],
            [
             0.4,
             "#fde0ef"
            ],
            [
             0.5,
             "#f7f7f7"
            ],
            [
             0.6,
             "#e6f5d0"
            ],
            [
             0.7,
             "#b8e186"
            ],
            [
             0.8,
             "#7fbc41"
            ],
            [
             0.9,
             "#4d9221"
            ],
            [
             1,
             "#276419"
            ]
           ],
           "sequential": [
            [
             0,
             "#0d0887"
            ],
            [
             0.1111111111111111,
             "#46039f"
            ],
            [
             0.2222222222222222,
             "#7201a8"
            ],
            [
             0.3333333333333333,
             "#9c179e"
            ],
            [
             0.4444444444444444,
             "#bd3786"
            ],
            [
             0.5555555555555556,
             "#d8576b"
            ],
            [
             0.6666666666666666,
             "#ed7953"
            ],
            [
             0.7777777777777778,
             "#fb9f3a"
            ],
            [
             0.8888888888888888,
             "#fdca26"
            ],
            [
             1,
             "#f0f921"
            ]
           ],
           "sequentialminus": [
            [
             0,
             "#0d0887"
            ],
            [
             0.1111111111111111,
             "#46039f"
            ],
            [
             0.2222222222222222,
             "#7201a8"
            ],
            [
             0.3333333333333333,
             "#9c179e"
            ],
            [
             0.4444444444444444,
             "#bd3786"
            ],
            [
             0.5555555555555556,
             "#d8576b"
            ],
            [
             0.6666666666666666,
             "#ed7953"
            ],
            [
             0.7777777777777778,
             "#fb9f3a"
            ],
            [
             0.8888888888888888,
             "#fdca26"
            ],
            [
             1,
             "#f0f921"
            ]
           ]
          },
          "colorway": [
           "#636efa",
           "#EF553B",
           "#00cc96",
           "#ab63fa",
           "#FFA15A",
           "#19d3f3",
           "#FF6692",
           "#B6E880",
           "#FF97FF",
           "#FECB52"
          ],
          "font": {
           "color": "#2a3f5f"
          },
          "geo": {
           "bgcolor": "white",
           "lakecolor": "white",
           "landcolor": "#E5ECF6",
           "showlakes": true,
           "showland": true,
           "subunitcolor": "white"
          },
          "hoverlabel": {
           "align": "left"
          },
          "hovermode": "closest",
          "mapbox": {
           "style": "light"
          },
          "paper_bgcolor": "white",
          "plot_bgcolor": "#E5ECF6",
          "polar": {
           "angularaxis": {
            "gridcolor": "white",
            "linecolor": "white",
            "ticks": ""
           },
           "bgcolor": "#E5ECF6",
           "radialaxis": {
            "gridcolor": "white",
            "linecolor": "white",
            "ticks": ""
           }
          },
          "scene": {
           "xaxis": {
            "backgroundcolor": "#E5ECF6",
            "gridcolor": "white",
            "gridwidth": 2,
            "linecolor": "white",
            "showbackground": true,
            "ticks": "",
            "zerolinecolor": "white"
           },
           "yaxis": {
            "backgroundcolor": "#E5ECF6",
            "gridcolor": "white",
            "gridwidth": 2,
            "linecolor": "white",
            "showbackground": true,
            "ticks": "",
            "zerolinecolor": "white"
           },
           "zaxis": {
            "backgroundcolor": "#E5ECF6",
            "gridcolor": "white",
            "gridwidth": 2,
            "linecolor": "white",
            "showbackground": true,
            "ticks": "",
            "zerolinecolor": "white"
           }
          },
          "shapedefaults": {
           "line": {
            "color": "#2a3f5f"
           }
          },
          "ternary": {
           "aaxis": {
            "gridcolor": "white",
            "linecolor": "white",
            "ticks": ""
           },
           "baxis": {
            "gridcolor": "white",
            "linecolor": "white",
            "ticks": ""
           },
           "bgcolor": "#E5ECF6",
           "caxis": {
            "gridcolor": "white",
            "linecolor": "white",
            "ticks": ""
           }
          },
          "title": {
           "x": 0.05
          },
          "xaxis": {
           "automargin": true,
           "gridcolor": "white",
           "linecolor": "white",
           "ticks": "",
           "title": {
            "standoff": 15
           },
           "zerolinecolor": "white",
           "zerolinewidth": 2
          },
          "yaxis": {
           "automargin": true,
           "gridcolor": "white",
           "linecolor": "white",
           "ticks": "",
           "title": {
            "standoff": 15
           },
           "zerolinecolor": "white",
           "zerolinewidth": 2
          }
         }
        },
        "title": {
         "text": "Gross Domestic Product (GDP) Per Capita 2020 Across the World"
        }
       }
      }
     },
     "metadata": {},
     "output_type": "display_data"
    },
    {
     "data": {
      "application/vnd.jupyter.widget-view+json": {
       "model_id": "78203862363740719d788b0a695b551a",
       "version_major": 2,
       "version_minor": 0
      },
      "text/plain": [
       "interactive(children=(FloatSlider(value=58685.24845, description='min_gdp', max=117370.4969), Output()), _dom_…"
      ]
     },
     "metadata": {},
     "output_type": "display_data"
    },
    {
     "data": {
      "text/plain": [
       "<function __main__.filter_data(min_gdp)>"
      ]
     },
     "execution_count": 61,
     "metadata": {},
     "output_type": "execute_result"
    }
   ],
   "source": [
    "import plotly.express as px\n",
    "from ipywidgets import interact\n",
    "import pandas as pd\n",
    "\n",
    "df_gdp = pd.read_csv('/Users/mattheeter/DS4002/gdp_code.csv')\n",
    "\n",
    "# Define the function to filter the data\n",
    "def filter_data(min_gdp):\n",
    "    mask = (df_gdp['GDP PER CAPITA 2020'] > min_gdp)\n",
    "    df_filtered = df_gdp[mask]\n",
    "    return df_filtered\n",
    "\n",
    "df_filtered = filter_data(0)\n",
    "\n",
    "fig = px.choropleth(data_frame=df_filtered,\n",
    "                    locations='CODE', \n",
    "                    locationmode='ISO-3',\n",
    "                    color='GDP PER CAPITA 2020',\n",
    "                    hover_name='COUNTRY',\n",
    "                    color_continuous_scale='Electric',\n",
    "                    title='Gross Domestic Product (GDP) Per Capita 2020 Across the World', \n",
    "                    labels={'GDP PER CAPITA 2020':'GDP per capita'},\n",
    "                    height=600\n",
    "                    )\n",
    "fig.show()\n",
    "\n",
    "interact(filter_data, min_gdp=(0, df_gdp['GDP PER CAPITA 2020'].max()))\n"
   ]
  },
  {
   "cell_type": "code",
   "execution_count": 62,
   "metadata": {},
   "outputs": [
    {
     "data": {
      "application/vnd.plotly.v1+json": {
       "config": {
        "plotlyServerURL": "https://plot.ly"
       },
       "data": [
        {
         "autocolorscale": false,
         "colorbar": {
          "title": {
           "text": "GDP Per Capita Percentage Error"
          }
         },
         "colorscale": [
          [
           0,
           "green"
          ],
          [
           0.1,
           "yellow"
          ],
          [
           1,
           "red"
          ]
         ],
         "locations": [
          "AFG",
          "ALB",
          "ALG",
          "AGO",
          "ATG",
          "ARG",
          "ARM",
          "AUS",
          "AUT",
          "AZE",
          "BHR",
          "BGD",
          "BLR",
          "BEL",
          "BEN",
          "BTN",
          "BIH",
          "BWA",
          "BRA",
          "VGB",
          "BGR",
          "BFA",
          "BDI",
          "KHM",
          "CMR",
          "CAN",
          "CAF",
          "TCD",
          "CHL",
          "CHN",
          "COL",
          "COM",
          "COD",
          "COG",
          "CRI",
          "HRV",
          "CYP",
          "DNK",
          "DMA",
          "DOM",
          "ECU",
          "EGY",
          "SLV",
          "EST",
          null,
          "ETH",
          "FJI",
          "FIN",
          "FRA",
          "GAB",
          "GMB",
          "GEO",
          "DEU",
          "GHA",
          "GRC",
          "GRD",
          "GTM",
          "GIN",
          "GUY",
          "HTI",
          "HND",
          "HKG",
          "HUN",
          "ISL",
          "IND",
          "IDN",
          "IRN",
          "IRQ",
          "ISR",
          "ITA",
          "JAM",
          "JPN",
          "JOR",
          "KAZ",
          "KEN",
          "KIR",
          "KOR",
          "KSV",
          "KWT",
          "KGZ",
          "LAO",
          "LVA",
          "LBN",
          "LSO",
          "LBR",
          "LTU",
          "MAC",
          "MDG",
          "MWI",
          "MYS",
          "MLI",
          "MLT",
          "MRT",
          "MUS",
          "MEX",
          "FSM",
          "MDA",
          "MNG",
          "MNE",
          "MAR",
          "MOZ",
          null,
          "NAM",
          null,
          "NPL",
          "NLD",
          "NZL",
          "NIC",
          "NGA",
          "NER",
          null,
          "NOR",
          "OMN",
          "PAK",
          "PLW",
          "PAN",
          "PNG",
          "PRY",
          "PER",
          "PHL",
          "POL",
          "PRT",
          "QAT",
          "ROU",
          "RUS",
          "RWA",
          "WSM",
          "SAU",
          "SEN",
          "SRB",
          "SYC",
          "SLE",
          "SGP",
          "SVK",
          "SVN",
          "SLB",
          "ZAF",
          null,
          null,
          null,
          "SDN",
          "SWE",
          "CHE",
          "TJK",
          "THA",
          "TLS",
          "TGO",
          "TON",
          "TTO",
          "TUN",
          "TUV",
          "UGA",
          "UKR",
          "ARE",
          "GBR",
          "USA",
          "URY",
          "UZB",
          "VUT",
          "VNM",
          null
         ],
         "marker": {
          "line": {
           "color": "darkgray",
           "width": 0.5
          }
         },
         "reversescale": false,
         "text": [
          "Afghanistan",
          "Albania",
          "Algeria",
          "Angola",
          "Antigua and Barbuda",
          "Argentina",
          "Armenia",
          "Australia",
          "Austria",
          "Azerbaijan",
          "Bahrain",
          "Bangladesh",
          "Belarus",
          "Belgium",
          "Benin",
          "Bhutan",
          "Bosnia and Herzegovina",
          "Botswana",
          "Brazil",
          "Brunei Darussalam",
          "Bulgaria",
          "Burkina Faso",
          "Burundi",
          "Cambodia",
          "Cameroon",
          "Canada",
          "Central African Republic",
          "Chad",
          "Chile",
          "China",
          "Colombia",
          "Comoros",
          "Congo, Dem. Rep.",
          "Congo, Rep.",
          "Costa Rica",
          "Croatia",
          "Cyprus",
          "Denmark",
          "Dominica",
          "Dominican Republic",
          "Ecuador",
          "Egypt, Arab Rep.",
          "El Salvador",
          "Estonia",
          "Eswatini",
          "Ethiopia",
          "Fiji",
          "Finland",
          "France",
          "Gabon",
          "Gambia, The",
          "Georgia",
          "Germany",
          "Ghana",
          "Greece",
          "Grenada",
          "Guatemala",
          "Guinea",
          "Guyana",
          "Haiti",
          "Honduras",
          "Hong Kong SAR, China",
          "Hungary",
          "Iceland",
          "India",
          "Indonesia",
          "Iran, Islamic Rep.",
          "Iraq",
          "Israel",
          "Italy",
          "Jamaica",
          "Japan",
          "Jordan",
          "Kazakhstan",
          "Kenya",
          "Kiribati",
          "Korea, Rep.",
          "Kosovo",
          "Kuwait",
          "Kyrgyz Republic",
          "Lao PDR",
          "Latvia",
          "Lebanon",
          "Lesotho",
          "Liberia",
          "Lithuania",
          "Macao SAR, China",
          "Madagascar",
          "Malawi",
          "Malaysia",
          "Mali",
          "Malta",
          "Mauritania",
          "Mauritius",
          "Mexico",
          "Micronesia, Fed. Sts.",
          "Moldova",
          "Mongolia",
          "Montenegro",
          "Morocco",
          "Mozambique",
          "Myanmar",
          "Namibia",
          "Nauru",
          "Nepal",
          "Netherlands",
          "New Zealand",
          "Nicaragua",
          "Niger",
          "Nigeria",
          "North Macedonia",
          "Norway",
          "Oman",
          "Pakistan",
          "Palau",
          "Panama",
          "Papua New Guinea",
          "Paraguay",
          "Peru",
          "Philippines",
          "Poland",
          "Portugal",
          "Qatar",
          "Romania",
          "Russian Federation",
          "Rwanda",
          "Samoa",
          "Saudi Arabia",
          "Senegal",
          "Serbia",
          "Seychelles",
          "Sierra Leone",
          "Singapore",
          "Slovak Republic",
          "Slovenia",
          "Solomon Islands",
          "South Africa",
          "St. Kitts and Nevis",
          "St. Lucia",
          "St. Vincent and the Grenadines",
          "Sudan",
          "Sweden",
          "Switzerland",
          "Tajikistan",
          "Thailand",
          "Timor-Leste",
          "Togo",
          "Tonga",
          "Trinidad and Tobago",
          "Tunisia",
          "Tuvalu",
          "Uganda",
          "Ukraine",
          "United Arab Emirates",
          "United Kingdom",
          "United States",
          "Uruguay",
          "Uzbekistan",
          "Vanuatu",
          "Vietnam",
          "West Bank and Gaza"
         ],
         "type": "choropleth",
         "z": [
          0.507045214,
          0.556983799,
          0.550350509,
          1.925879354,
          0.229516061,
          0.206024359,
          0.381947806,
          0.292724709,
          0.377868678,
          0.203870686,
          0.157802917,
          0.843809778,
          0.515991713,
          0.239742803,
          1.359170776,
          0.044650695,
          0.229659157,
          3.56972047,
          2.0968095,
          0.262082212,
          0.030038118,
          0.806721496,
          1.082294209,
          1.847043107,
          3.450692337,
          2.35477e-15,
          0.921369596,
          0.848832522,
          0.477008228,
          0.337278318,
          0.448834871,
          4.662301476,
          2.274181883,
          0.557210767,
          0.073688045,
          0.526722271,
          0.250132963,
          0.687784609,
          2.875660336,
          0.673524786,
          0.061460033,
          0.408027044,
          0.150249026,
          0.358098621,
          1.919762258,
          0.170044127,
          0.468240661,
          0.195100775,
          0.064154472,
          0.920809803,
          0.846105211,
          0.971649008,
          0.314956332,
          0.400206284,
          0.387554646,
          1.982055224,
          1.678048743,
          0.697681003,
          1.869574695,
          0.141830171,
          9.231428046,
          0.0023334,
          0.352197216,
          0.6298357,
          1.120425452,
          1.75525281,
          0.751551233,
          1.205240394,
          0.313462488,
          4.350630191,
          0.890139006,
          5.784134746,
          0.650991554,
          1.068624278,
          1.611733684,
          0.967153854,
          4.930472833,
          0.794882642,
          1.97997609,
          1.353547935,
          0.897355162,
          2.149744741,
          2.535188512,
          0.811273173,
          0.976298847,
          0.539737761,
          360.5074226,
          0.943564526,
          0.88416366,
          0.707757867,
          0.484850894,
          0.307183976,
          0.824369318,
          12.65229499,
          0.064314132,
          0.65914207,
          0.627699915,
          0.189815249,
          109.6805497,
          2.530004426,
          0.14610445,
          0.906890735,
          1.466913947,
          0.774828221,
          0.971761049,
          24.8154154,
          39.96833956,
          2.201815414,
          0.919978943,
          0.94659358,
          0.737600804,
          61.86399643,
          0.000254924,
          0.894719676,
          2.782614067,
          1.22541452,
          0.752431221,
          55.1899572,
          0.819689465,
          0.914911251,
          0.438494073,
          0.393598407,
          5.109700405,
          12.3184528,
          0.293210677,
          0.962256396,
          0.358834407,
          0.151675437,
          0.933835512,
          2.260396609,
          0.767792074,
          0.979576232,
          0.567119311,
          6.355404975,
          28.36017363,
          0.926661021,
          0.653504465,
          1.306800598,
          6.686179535,
          2.7621394,
          0.799881397,
          0.383785005,
          0.84062922,
          5.118277556,
          0.760611366,
          0.889788744,
          0.395178014,
          0.796942665,
          1.154779267,
          16.02967702,
          0.00306948,
          0.875593685,
          0.875885098,
          0.970810854,
          0.669870946,
          2.133215771,
          20.33152134,
          3.063244184,
          0.335197069,
          0.512134306,
          0.110110069
         ],
         "zmax": 10,
         "zmin": 0
        }
       ],
       "layout": {
        "geo": {
         "projection": {
          "type": "equirectangular"
         },
         "showcoastlines": false,
         "showframe": false
        },
        "template": {
         "data": {
          "bar": [
           {
            "error_x": {
             "color": "#2a3f5f"
            },
            "error_y": {
             "color": "#2a3f5f"
            },
            "marker": {
             "line": {
              "color": "#E5ECF6",
              "width": 0.5
             },
             "pattern": {
              "fillmode": "overlay",
              "size": 10,
              "solidity": 0.2
             }
            },
            "type": "bar"
           }
          ],
          "barpolar": [
           {
            "marker": {
             "line": {
              "color": "#E5ECF6",
              "width": 0.5
             },
             "pattern": {
              "fillmode": "overlay",
              "size": 10,
              "solidity": 0.2
             }
            },
            "type": "barpolar"
           }
          ],
          "carpet": [
           {
            "aaxis": {
             "endlinecolor": "#2a3f5f",
             "gridcolor": "white",
             "linecolor": "white",
             "minorgridcolor": "white",
             "startlinecolor": "#2a3f5f"
            },
            "baxis": {
             "endlinecolor": "#2a3f5f",
             "gridcolor": "white",
             "linecolor": "white",
             "minorgridcolor": "white",
             "startlinecolor": "#2a3f5f"
            },
            "type": "carpet"
           }
          ],
          "choropleth": [
           {
            "colorbar": {
             "outlinewidth": 0,
             "ticks": ""
            },
            "type": "choropleth"
           }
          ],
          "contour": [
           {
            "colorbar": {
             "outlinewidth": 0,
             "ticks": ""
            },
            "colorscale": [
             [
              0,
              "#0d0887"
             ],
             [
              0.1111111111111111,
              "#46039f"
             ],
             [
              0.2222222222222222,
              "#7201a8"
             ],
             [
              0.3333333333333333,
              "#9c179e"
             ],
             [
              0.4444444444444444,
              "#bd3786"
             ],
             [
              0.5555555555555556,
              "#d8576b"
             ],
             [
              0.6666666666666666,
              "#ed7953"
             ],
             [
              0.7777777777777778,
              "#fb9f3a"
             ],
             [
              0.8888888888888888,
              "#fdca26"
             ],
             [
              1,
              "#f0f921"
             ]
            ],
            "type": "contour"
           }
          ],
          "contourcarpet": [
           {
            "colorbar": {
             "outlinewidth": 0,
             "ticks": ""
            },
            "type": "contourcarpet"
           }
          ],
          "heatmap": [
           {
            "colorbar": {
             "outlinewidth": 0,
             "ticks": ""
            },
            "colorscale": [
             [
              0,
              "#0d0887"
             ],
             [
              0.1111111111111111,
              "#46039f"
             ],
             [
              0.2222222222222222,
              "#7201a8"
             ],
             [
              0.3333333333333333,
              "#9c179e"
             ],
             [
              0.4444444444444444,
              "#bd3786"
             ],
             [
              0.5555555555555556,
              "#d8576b"
             ],
             [
              0.6666666666666666,
              "#ed7953"
             ],
             [
              0.7777777777777778,
              "#fb9f3a"
             ],
             [
              0.8888888888888888,
              "#fdca26"
             ],
             [
              1,
              "#f0f921"
             ]
            ],
            "type": "heatmap"
           }
          ],
          "heatmapgl": [
           {
            "colorbar": {
             "outlinewidth": 0,
             "ticks": ""
            },
            "colorscale": [
             [
              0,
              "#0d0887"
             ],
             [
              0.1111111111111111,
              "#46039f"
             ],
             [
              0.2222222222222222,
              "#7201a8"
             ],
             [
              0.3333333333333333,
              "#9c179e"
             ],
             [
              0.4444444444444444,
              "#bd3786"
             ],
             [
              0.5555555555555556,
              "#d8576b"
             ],
             [
              0.6666666666666666,
              "#ed7953"
             ],
             [
              0.7777777777777778,
              "#fb9f3a"
             ],
             [
              0.8888888888888888,
              "#fdca26"
             ],
             [
              1,
              "#f0f921"
             ]
            ],
            "type": "heatmapgl"
           }
          ],
          "histogram": [
           {
            "marker": {
             "pattern": {
              "fillmode": "overlay",
              "size": 10,
              "solidity": 0.2
             }
            },
            "type": "histogram"
           }
          ],
          "histogram2d": [
           {
            "colorbar": {
             "outlinewidth": 0,
             "ticks": ""
            },
            "colorscale": [
             [
              0,
              "#0d0887"
             ],
             [
              0.1111111111111111,
              "#46039f"
             ],
             [
              0.2222222222222222,
              "#7201a8"
             ],
             [
              0.3333333333333333,
              "#9c179e"
             ],
             [
              0.4444444444444444,
              "#bd3786"
             ],
             [
              0.5555555555555556,
              "#d8576b"
             ],
             [
              0.6666666666666666,
              "#ed7953"
             ],
             [
              0.7777777777777778,
              "#fb9f3a"
             ],
             [
              0.8888888888888888,
              "#fdca26"
             ],
             [
              1,
              "#f0f921"
             ]
            ],
            "type": "histogram2d"
           }
          ],
          "histogram2dcontour": [
           {
            "colorbar": {
             "outlinewidth": 0,
             "ticks": ""
            },
            "colorscale": [
             [
              0,
              "#0d0887"
             ],
             [
              0.1111111111111111,
              "#46039f"
             ],
             [
              0.2222222222222222,
              "#7201a8"
             ],
             [
              0.3333333333333333,
              "#9c179e"
             ],
             [
              0.4444444444444444,
              "#bd3786"
             ],
             [
              0.5555555555555556,
              "#d8576b"
             ],
             [
              0.6666666666666666,
              "#ed7953"
             ],
             [
              0.7777777777777778,
              "#fb9f3a"
             ],
             [
              0.8888888888888888,
              "#fdca26"
             ],
             [
              1,
              "#f0f921"
             ]
            ],
            "type": "histogram2dcontour"
           }
          ],
          "mesh3d": [
           {
            "colorbar": {
             "outlinewidth": 0,
             "ticks": ""
            },
            "type": "mesh3d"
           }
          ],
          "parcoords": [
           {
            "line": {
             "colorbar": {
              "outlinewidth": 0,
              "ticks": ""
             }
            },
            "type": "parcoords"
           }
          ],
          "pie": [
           {
            "automargin": true,
            "type": "pie"
           }
          ],
          "scatter": [
           {
            "fillpattern": {
             "fillmode": "overlay",
             "size": 10,
             "solidity": 0.2
            },
            "type": "scatter"
           }
          ],
          "scatter3d": [
           {
            "line": {
             "colorbar": {
              "outlinewidth": 0,
              "ticks": ""
             }
            },
            "marker": {
             "colorbar": {
              "outlinewidth": 0,
              "ticks": ""
             }
            },
            "type": "scatter3d"
           }
          ],
          "scattercarpet": [
           {
            "marker": {
             "colorbar": {
              "outlinewidth": 0,
              "ticks": ""
             }
            },
            "type": "scattercarpet"
           }
          ],
          "scattergeo": [
           {
            "marker": {
             "colorbar": {
              "outlinewidth": 0,
              "ticks": ""
             }
            },
            "type": "scattergeo"
           }
          ],
          "scattergl": [
           {
            "marker": {
             "colorbar": {
              "outlinewidth": 0,
              "ticks": ""
             }
            },
            "type": "scattergl"
           }
          ],
          "scattermapbox": [
           {
            "marker": {
             "colorbar": {
              "outlinewidth": 0,
              "ticks": ""
             }
            },
            "type": "scattermapbox"
           }
          ],
          "scatterpolar": [
           {
            "marker": {
             "colorbar": {
              "outlinewidth": 0,
              "ticks": ""
             }
            },
            "type": "scatterpolar"
           }
          ],
          "scatterpolargl": [
           {
            "marker": {
             "colorbar": {
              "outlinewidth": 0,
              "ticks": ""
             }
            },
            "type": "scatterpolargl"
           }
          ],
          "scatterternary": [
           {
            "marker": {
             "colorbar": {
              "outlinewidth": 0,
              "ticks": ""
             }
            },
            "type": "scatterternary"
           }
          ],
          "surface": [
           {
            "colorbar": {
             "outlinewidth": 0,
             "ticks": ""
            },
            "colorscale": [
             [
              0,
              "#0d0887"
             ],
             [
              0.1111111111111111,
              "#46039f"
             ],
             [
              0.2222222222222222,
              "#7201a8"
             ],
             [
              0.3333333333333333,
              "#9c179e"
             ],
             [
              0.4444444444444444,
              "#bd3786"
             ],
             [
              0.5555555555555556,
              "#d8576b"
             ],
             [
              0.6666666666666666,
              "#ed7953"
             ],
             [
              0.7777777777777778,
              "#fb9f3a"
             ],
             [
              0.8888888888888888,
              "#fdca26"
             ],
             [
              1,
              "#f0f921"
             ]
            ],
            "type": "surface"
           }
          ],
          "table": [
           {
            "cells": {
             "fill": {
              "color": "#EBF0F8"
             },
             "line": {
              "color": "white"
             }
            },
            "header": {
             "fill": {
              "color": "#C8D4E3"
             },
             "line": {
              "color": "white"
             }
            },
            "type": "table"
           }
          ]
         },
         "layout": {
          "annotationdefaults": {
           "arrowcolor": "#2a3f5f",
           "arrowhead": 0,
           "arrowwidth": 1
          },
          "autotypenumbers": "strict",
          "coloraxis": {
           "colorbar": {
            "outlinewidth": 0,
            "ticks": ""
           }
          },
          "colorscale": {
           "diverging": [
            [
             0,
             "#8e0152"
            ],
            [
             0.1,
             "#c51b7d"
            ],
            [
             0.2,
             "#de77ae"
            ],
            [
             0.3,
             "#f1b6da"
            ],
            [
             0.4,
             "#fde0ef"
            ],
            [
             0.5,
             "#f7f7f7"
            ],
            [
             0.6,
             "#e6f5d0"
            ],
            [
             0.7,
             "#b8e186"
            ],
            [
             0.8,
             "#7fbc41"
            ],
            [
             0.9,
             "#4d9221"
            ],
            [
             1,
             "#276419"
            ]
           ],
           "sequential": [
            [
             0,
             "#0d0887"
            ],
            [
             0.1111111111111111,
             "#46039f"
            ],
            [
             0.2222222222222222,
             "#7201a8"
            ],
            [
             0.3333333333333333,
             "#9c179e"
            ],
            [
             0.4444444444444444,
             "#bd3786"
            ],
            [
             0.5555555555555556,
             "#d8576b"
            ],
            [
             0.6666666666666666,
             "#ed7953"
            ],
            [
             0.7777777777777778,
             "#fb9f3a"
            ],
            [
             0.8888888888888888,
             "#fdca26"
            ],
            [
             1,
             "#f0f921"
            ]
           ],
           "sequentialminus": [
            [
             0,
             "#0d0887"
            ],
            [
             0.1111111111111111,
             "#46039f"
            ],
            [
             0.2222222222222222,
             "#7201a8"
            ],
            [
             0.3333333333333333,
             "#9c179e"
            ],
            [
             0.4444444444444444,
             "#bd3786"
            ],
            [
             0.5555555555555556,
             "#d8576b"
            ],
            [
             0.6666666666666666,
             "#ed7953"
            ],
            [
             0.7777777777777778,
             "#fb9f3a"
            ],
            [
             0.8888888888888888,
             "#fdca26"
            ],
            [
             1,
             "#f0f921"
            ]
           ]
          },
          "colorway": [
           "#636efa",
           "#EF553B",
           "#00cc96",
           "#ab63fa",
           "#FFA15A",
           "#19d3f3",
           "#FF6692",
           "#B6E880",
           "#FF97FF",
           "#FECB52"
          ],
          "font": {
           "color": "#2a3f5f"
          },
          "geo": {
           "bgcolor": "white",
           "lakecolor": "white",
           "landcolor": "#E5ECF6",
           "showlakes": true,
           "showland": true,
           "subunitcolor": "white"
          },
          "hoverlabel": {
           "align": "left"
          },
          "hovermode": "closest",
          "mapbox": {
           "style": "light"
          },
          "paper_bgcolor": "white",
          "plot_bgcolor": "#E5ECF6",
          "polar": {
           "angularaxis": {
            "gridcolor": "white",
            "linecolor": "white",
            "ticks": ""
           },
           "bgcolor": "#E5ECF6",
           "radialaxis": {
            "gridcolor": "white",
            "linecolor": "white",
            "ticks": ""
           }
          },
          "scene": {
           "xaxis": {
            "backgroundcolor": "#E5ECF6",
            "gridcolor": "white",
            "gridwidth": 2,
            "linecolor": "white",
            "showbackground": true,
            "ticks": "",
            "zerolinecolor": "white"
           },
           "yaxis": {
            "backgroundcolor": "#E5ECF6",
            "gridcolor": "white",
            "gridwidth": 2,
            "linecolor": "white",
            "showbackground": true,
            "ticks": "",
            "zerolinecolor": "white"
           },
           "zaxis": {
            "backgroundcolor": "#E5ECF6",
            "gridcolor": "white",
            "gridwidth": 2,
            "linecolor": "white",
            "showbackground": true,
            "ticks": "",
            "zerolinecolor": "white"
           }
          },
          "shapedefaults": {
           "line": {
            "color": "#2a3f5f"
           }
          },
          "ternary": {
           "aaxis": {
            "gridcolor": "white",
            "linecolor": "white",
            "ticks": ""
           },
           "baxis": {
            "gridcolor": "white",
            "linecolor": "white",
            "ticks": ""
           },
           "bgcolor": "#E5ECF6",
           "caxis": {
            "gridcolor": "white",
            "linecolor": "white",
            "ticks": ""
           }
          },
          "title": {
           "x": 0.05
          },
          "xaxis": {
           "automargin": true,
           "gridcolor": "white",
           "linecolor": "white",
           "ticks": "",
           "title": {
            "standoff": 15
           },
           "zerolinecolor": "white",
           "zerolinewidth": 2
          },
          "yaxis": {
           "automargin": true,
           "gridcolor": "white",
           "linecolor": "white",
           "ticks": "",
           "title": {
            "standoff": 15
           },
           "zerolinecolor": "white",
           "zerolinewidth": 2
          }
         }
        },
        "title": {
         "text": "Predicted GDP Per Capita 2020 Percentage Error Across the World"
        }
       }
      }
     },
     "metadata": {},
     "output_type": "display_data"
    }
   ],
   "source": [
    "import plotly.graph_objects as go\n",
    "import pandas as pd\n",
    "\n",
    "# GDP Predicted Interactive Choropleth Map\n",
    "df_gdp_predicted = pd.read_csv('/Users/mattheeter/DS4002/gdp_predicted.csv')\n",
    "\n",
    "fig_gdp_predicted = go.Figure(data=go.Choropleth(\n",
    "    locations = df_gdp_predicted['CODE'],\n",
    "    z = df_gdp_predicted['PERCENTAGE ERROR'],\n",
    "    text = df_gdp_predicted['COUNTRY'],\n",
    "    colorscale = [[0, 'green'], [0.1, 'yellow'], [1, 'red']],\n",
    "    autocolorscale=False,\n",
    "    reversescale=False,\n",
    "    marker_line_color='darkgray',\n",
    "    marker_line_width=0.5,\n",
    "    colorbar_title = 'GDP Per Capita Percentage Error',\n",
    "    zmin = 0,\n",
    "    zmax = 10\n",
    "))\n",
    "fig_gdp_predicted.update_layout(\n",
    "    title_text='Predicted GDP Per Capita 2020 Percentage Error Across the World', \n",
    "    geo=dict(\n",
    "        showframe=False,\n",
    "        showcoastlines=False,\n",
    "        projection_type='equirectangular'\n",
    "    ),\n",
    ")\n",
    "\n",
    "fig_gdp_predicted.show()"
   ]
  },
  {
   "attachments": {},
   "cell_type": "markdown",
   "metadata": {},
   "source": [
    "This interactive world map shows the percentage error between our predicted GDP per capita values (using our Linear Regression model) and the actual GDP per capital values across all the countries in our dataset."
   ]
  },
  {
   "attachments": {},
   "cell_type": "markdown",
   "metadata": {},
   "source": [
    "<h2>Conclusions</h2>"
   ]
  },
  {
   "attachments": {},
   "cell_type": "markdown",
   "metadata": {},
   "source": [
    "- In answering our first question of whether or not we could create a good machine learning model to predict GDP per capita using HCI information, we were able to create a decent machine learning model, using Linear Regression. We tested three different models: Linear Regression, SVM, and KNN, and their R-squared values were 0.8406, -0.1696, and 0.4937, respectively. Therefore, the Linear Regression model had the highest R-squared value out of the three models, so we decided to use that model to visually represent the predicted GDP per capita values. \n",
    "- In answering our second question of whether or not we could effectively portray the relationship between HCI and GDP per capita, we were able to come up with a variety of visualizations, including scatterplots, interactive world maps, and boxplots. We noted that countries with a higher HCI score tended to also have a higher GDP per capita, hence the linear relationship between those two variables. \n",
    "- We also learned how to develop the Flask application in Python, which allows us to upload our visualizations on an external web framework. \n",
    "- Limitations: One limitation of our project was definitely our dataset. We only had 162 countries (or datapoints) in our dataset after removing the missing and null values, which was not a good sample size for this project. With a sample size of 162 countries, we had limited predictive power. Unfortunately, we were only able to find 2020 HCI values online because we are assuming that it takes many years to gather HCI information. Also, HCI is a fairly new concept, given that it came out in 2018, so that's another reason why there is not a lot of data out there. However, we were really interested in this topic because we believe there were a lot of real-world applications, such as predicting health outcomes, educational achievements, and labor market outcomes. In our case, we focused on the labor market outcomes, and we noticed that countries with a higher GDP per capita have a higher HCI score, so countries should strive to increase their GDP per capita to ultimately increase their country's overall productivity in the next generation of workers. Countries can increase their GDP per capita by focusing on four key areas: personal consumption expenditures, business investment, government spending, and net exports of goods and services. "
   ]
  },
  {
   "attachments": {},
   "cell_type": "markdown",
   "metadata": {},
   "source": [
    "<h2>Future Work</h2>"
   ]
  },
  {
   "attachments": {},
   "cell_type": "markdown",
   "metadata": {},
   "source": [
    "- Conduct the same project in the future when more HCI data becomes available \n",
    "- Use more performance metrics (besides R-squared)\n",
    "- Test more stacked classifiers and deep learning models\n",
    "- Find a different feature than HCI to predict GDP per capita \n",
    "- Create more filters within the interactive world map visualizations\n"
   ]
  },
  {
   "attachments": {},
   "cell_type": "markdown",
   "metadata": {},
   "source": [
    "<h2>Sources</h2>\n",
    "https://www.worldbank.org/en/publication/human-capital\n",
    "https://databank.worldbank.org/indicator/NY.GDP.PCAP.CD/1ff4a498/Popular-Indicators#\n",
    "https://quarto.org/docs/computations/python.html#vs-code\n",
    "https://ourworldindata.org/grapher/human-capital-index-vs-gdp\n",
    "https://plotly.com/python/choropleth-maps/\n",
    "https://towardsdatascience.com/k-nearest-neighbors-94395f445221\n",
    "https://www.thebalancemoney.com/components-of-gdp-explanation-formula-and-chart-3306015\n",
    "https://ipywidgets.readthedocs.io/\n",
    "https://getbootstrap.com/docs/4.0/components/navbar/\n",
    "https://docs.tibco.com/pub/spotfire/6.5.1/doc/html/3d_scat/3d_scat_what_is_a_3d_scatter_plot.htm#:~:text=3D%20scatter%20plots%20are%20used,%2C%20Y%2C%20and%20Z%20axes.\n",
    "https://quarto.org/docs/output-formats/html-code.html#:~:text=%23%23%20Hiding%20Code%20For%20many,the%20document%20%60execute%60%20options.\n",
    "\n",
    "\n",
    "\n",
    "\n",
    "\n",
    "\n",
    "\n",
    "\n",
    "\n",
    "\n",
    "\n",
    "\n"
   ]
  },
  {
   "attachments": {},
   "cell_type": "markdown",
   "metadata": {},
   "source": [
    "<h2>Thank you for listening! Any questions?</h2>"
   ]
  }
 ],
 "metadata": {
  "kernelspec": {
   "display_name": "Python 3",
   "language": "python",
   "name": "python3"
  },
  "language_info": {
   "codemirror_mode": {
    "name": "ipython",
    "version": 3
   },
   "file_extension": ".py",
   "mimetype": "text/x-python",
   "name": "python",
   "nbconvert_exporter": "python",
   "pygments_lexer": "ipython3",
   "version": "3.10.2"
  },
  "orig_nbformat": 4,
  "vscode": {
   "interpreter": {
    "hash": "aee8b7b246df8f9039afb4144a1f6fd8d2ca17a180786b69acc140d282b71a49"
   }
  }
 },
 "nbformat": 4,
 "nbformat_minor": 2
}
